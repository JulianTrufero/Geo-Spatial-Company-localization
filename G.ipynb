{
 "cells": [
  {
   "cell_type": "code",
   "execution_count": 42,
   "metadata": {},
   "outputs": [],
   "source": [
    "import json\n",
    "from dotenv import load_dotenv\n",
    "from functools import reduce\n",
    "import operator\n",
    "import os\n",
    "import pandas as pd\n",
    "import pymongo\n",
    "from pymongo import MongoClient\n",
    "import requests"
   ]
  },
  {
   "cell_type": "code",
   "execution_count": 2,
   "metadata": {},
   "outputs": [
    {
     "data": {
      "text/plain": [
       "True"
      ]
     },
     "execution_count": 2,
     "metadata": {},
     "output_type": "execute_result"
    }
   ],
   "source": [
    "load_dotenv()"
   ]
  },
  {
   "cell_type": "markdown",
   "metadata": {},
   "source": [
    "#### PARIS: Palais Garnier "
   ]
  },
  {
   "cell_type": "code",
   "execution_count": 3,
   "metadata": {},
   "outputs": [],
   "source": [
    "paris_ld = {'type': 'Point', 'coordinates': [48.87241163769417,2.3317031342524017]}"
   ]
  },
  {
   "cell_type": "code",
   "execution_count": 23,
   "metadata": {},
   "outputs": [],
   "source": [
    "melbourne_cbd = {'type': 'Point', 'coordinates': [-37.81227175879301,144.96262186884945]}"
   ]
  },
  {
   "cell_type": "code",
   "execution_count": 24,
   "metadata": {},
   "outputs": [],
   "source": [
    "sao_paulo_zc = {'type': 'Point', 'coordinates': [-23.533215960575276,-46.639408758375076]}"
   ]
  },
  {
   "cell_type": "code",
   "execution_count": 4,
   "metadata": {},
   "outputs": [],
   "source": [
    "def getdata_fsq(url, city, venue):\n",
    "    client_id = os.getenv(\"tok1\")\n",
    "    client_secret = os.getenv(\"tok2\")\n",
    "    url_ = f'{url}'\n",
    "    c = city['coordinates'][0]\n",
    "    c1 = city['coordinates'][1]\n",
    "    parametros = {\"client_id\": client_id, \"client_secret\": client_secret, \"v\": \"20180323\", \"ll\": f'{c}, {c1}',\n",
    "                  \"query\": venue, \"limit\": 55}\n",
    "    resp = requests.get(url_, params=parametros).json()\n",
    "    return resp"
   ]
  },
  {
   "cell_type": "markdown",
   "metadata": {},
   "source": [
    "#### HACER UNA FUNCION PARA GENERAR DATAS POR CADA RUBRO, POR CADA CIUDAD"
   ]
  },
  {
   "cell_type": "code",
   "execution_count": 21,
   "metadata": {},
   "outputs": [],
   "source": [
    "cathegories_p = ['vegan', 'airport', 'gare', 'starbucks', 'veterinaire', 'basketball', 'ecole']"
   ]
  },
  {
   "cell_type": "code",
   "execution_count": 22,
   "metadata": {},
   "outputs": [],
   "source": [
    "def datagenerator(url, city, cathegories):\n",
    "    cath = cathegories\n",
    "    data_ = []\n",
    "    for c in cath:\n",
    "        data = getdata_fsq(url, city, c)\n",
    "        data_.append(data['response']['venues'])\n",
    "    return data_"
   ]
  },
  {
   "cell_type": "code",
   "execution_count": 23,
   "metadata": {},
   "outputs": [],
   "source": [
    "paris = datagenerator('https://api.foursquare.com/v2/venues/search', paris_ld, cathegories_p)"
   ]
  },
  {
   "cell_type": "code",
   "execution_count": null,
   "metadata": {},
   "outputs": [],
   "source": []
  },
  {
   "cell_type": "code",
   "execution_count": null,
   "metadata": {},
   "outputs": [],
   "source": [
    "def getFromDict(dic,map_):\n",
    "    return reduce(operator.getitem, map_, dic)\n",
    "\n",
    "def type_point(gps):\n",
    "    return {\"type\": \"Point\", \"coordinates\": gps}\n",
    "\n",
    "def jsonxport(name, l):\n",
    "    n = f'{name}.json'\n",
    "    with open(n, 'w') as f:\n",
    "        json.dump(l, f)"
   ]
  },
  {
   "cell_type": "code",
   "execution_count": 16,
   "metadata": {},
   "outputs": [],
   "source": [
    "def jsongenerator(data, name):\n",
    "    d = data\n",
    "    map_name = ['name']\n",
    "    map_categories = ['categories']\n",
    "    map_lat = ['location', 'lat']\n",
    "    map_long = ['location', 'lng']\n",
    "    l = []\n",
    "    for dic in d:\n",
    "        ndic = {}\n",
    "        ndic['name']= getFromDict(dic,map_name)\n",
    "        ndic['categories']= getFromDict(dic,map_categories)\n",
    "        ndic['latitude']= getFromDict(dic,map_lat)\n",
    "        ndic['longitude']= getFromDict(dic,map_long)\n",
    "        ndic['location']= type_point([ndic[\"latitude\"],ndic[\"longitude\"]])\n",
    "        l.append(ndic)\n",
    "    return jsonxport(name, l)"
   ]
  },
  {
   "cell_type": "code",
   "execution_count": 34,
   "metadata": {},
   "outputs": [],
   "source": [
    "veg = jsongenerator(paris[0], 'veganp')"
   ]
  },
  {
   "cell_type": "code",
   "execution_count": 35,
   "metadata": {},
   "outputs": [],
   "source": [
    "ap = jsongenerator(paris[1], 'airportp')"
   ]
  },
  {
   "cell_type": "code",
   "execution_count": 36,
   "metadata": {},
   "outputs": [],
   "source": [
    "ga = jsongenerator(paris[2], 'gare')"
   ]
  },
  {
   "cell_type": "code",
   "execution_count": 37,
   "metadata": {},
   "outputs": [],
   "source": [
    "sbs = jsongenerator(paris[3], 'starbucksp')"
   ]
  },
  {
   "cell_type": "code",
   "execution_count": 38,
   "metadata": {},
   "outputs": [],
   "source": [
    "vet = jsongenerator(paris[4], 'veterinaire')"
   ]
  },
  {
   "cell_type": "code",
   "execution_count": 39,
   "metadata": {},
   "outputs": [],
   "source": [
    "bas = jsongenerator(paris[5], 'basketball')"
   ]
  },
  {
   "cell_type": "code",
   "execution_count": 40,
   "metadata": {},
   "outputs": [],
   "source": [
    "sc = jsongenerator(paris[6], 'schoolsp')"
   ]
  },
  {
   "cell_type": "code",
   "execution_count": null,
   "metadata": {},
   "outputs": [],
   "source": []
  },
  {
   "cell_type": "markdown",
   "metadata": {},
   "source": [
    "#### llamada a la collection"
   ]
  },
  {
   "cell_type": "code",
   "execution_count": 43,
   "metadata": {},
   "outputs": [],
   "source": [
    "client = MongoClient(\"localhost:27017\")\n",
    "db = client.get_database(\"GeoSpatialProyect\")"
   ]
  },
  {
   "cell_type": "code",
   "execution_count": 44,
   "metadata": {},
   "outputs": [
    {
     "data": {
      "text/plain": [
       "Database(MongoClient(host=['localhost:27017'], document_class=dict, tz_aware=False, connect=True), 'GeoSpatialProyect')"
      ]
     },
     "execution_count": 44,
     "metadata": {},
     "output_type": "execute_result"
    }
   ],
   "source": [
    "db"
   ]
  },
  {
   "cell_type": "code",
   "execution_count": 45,
   "metadata": {},
   "outputs": [],
   "source": [
    "g = db.get_collection(\"transport\")"
   ]
  },
  {
   "cell_type": "code",
   "execution_count": 50,
   "metadata": {},
   "outputs": [
    {
     "data": {
      "text/plain": [
       "dict_keys(['_id', 'name', 'categories', 'latitude', 'longitude', 'location'])"
      ]
     },
     "execution_count": 50,
     "metadata": {},
     "output_type": "execute_result"
    }
   ],
   "source": [
    "g.find_one().keys()"
   ]
  },
  {
   "cell_type": "code",
   "execution_count": null,
   "metadata": {},
   "outputs": [],
   "source": []
  },
  {
   "cell_type": "code",
   "execution_count": 75,
   "metadata": {},
   "outputs": [],
   "source": [
    "cond1 = {'categories.name': 'Airport'}"
   ]
  },
  {
   "cell_type": "code",
   "execution_count": 76,
   "metadata": {},
   "outputs": [],
   "source": [
    "cond2 = {\"location\": {\"$near\": {\"$geometry\": paris_ld, \"$minDistance\": 0 ,\"$maxDistance\": 20000}}}"
   ]
  },
  {
   "cell_type": "code",
   "execution_count": 77,
   "metadata": {},
   "outputs": [],
   "source": [
    "query = {'$and': [cond1, cond2]}"
   ]
  },
  {
   "cell_type": "code",
   "execution_count": 78,
   "metadata": {},
   "outputs": [
    {
     "data": {
      "text/plain": [
       "[{'_id': ObjectId('6134a0313681de6a29cd9f4a'),\n",
       "  'name': 'Aéroport Paris-Le Bourget (LBG)',\n",
       "  'categories': [{'id': '4bf58dd8d48988d1ed931735',\n",
       "    'name': 'Airport',\n",
       "    'pluralName': 'Airports',\n",
       "    'shortName': 'Airport',\n",
       "    'icon': {'prefix': 'https://ss3.4sqi.net/img/categories_v2/travel/airport_',\n",
       "     'suffix': '.png'},\n",
       "    'primary': True}],\n",
       "  'latitude': 48.95510050992192,\n",
       "  'longitude': 2.4418187141418457,\n",
       "  'location': {'type': 'Point',\n",
       "   'coordinates': [48.95510050992192, 2.4418187141418457]}},\n",
       " {'_id': ObjectId('6134a0313681de6a29cd9f3b'),\n",
       "  'name': 'Aéroport de Paris-Orly (ORY) (Aéroport de Paris-Orly)',\n",
       "  'categories': [{'id': '4bf58dd8d48988d1ed931735',\n",
       "    'name': 'Airport',\n",
       "    'pluralName': 'Airports',\n",
       "    'shortName': 'Airport',\n",
       "    'icon': {'prefix': 'https://ss3.4sqi.net/img/categories_v2/travel/airport_',\n",
       "     'suffix': '.png'},\n",
       "    'primary': True}],\n",
       "  'latitude': 48.72836947029652,\n",
       "  'longitude': 2.3650217056274414,\n",
       "  'location': {'type': 'Point',\n",
       "   'coordinates': [48.72836947029652, 2.3650217056274414]}}]"
      ]
     },
     "execution_count": 78,
     "metadata": {},
     "output_type": "execute_result"
    }
   ],
   "source": [
    "list(g.find(query))"
   ]
  },
  {
   "cell_type": "code",
   "execution_count": null,
   "metadata": {},
   "outputs": [],
   "source": []
  },
  {
   "cell_type": "code",
   "execution_count": 283,
   "metadata": {},
   "outputs": [],
   "source": [
    "#q1 = db.gastronomy.aggregate([{'$geoNear': {'near': paris_ld, 'distanceField': \"distance\", 'maxDistance': 1000, 'distanceMultiplier': 6371,\n",
    "#                                   'spherical': True}}])"
   ]
  },
  {
   "cell_type": "code",
   "execution_count": null,
   "metadata": {},
   "outputs": [],
   "source": []
  }
 ],
 "metadata": {
  "kernelspec": {
   "display_name": "ironcon",
   "language": "python",
   "name": "ironcon"
  },
  "language_info": {
   "codemirror_mode": {
    "name": "ipython",
    "version": 3
   },
   "file_extension": ".py",
   "mimetype": "text/x-python",
   "name": "python",
   "nbconvert_exporter": "python",
   "pygments_lexer": "ipython3",
   "version": "3.8.11"
  }
 },
 "nbformat": 4,
 "nbformat_minor": 4
}
