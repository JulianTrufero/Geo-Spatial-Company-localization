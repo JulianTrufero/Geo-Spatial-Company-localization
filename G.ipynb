{
 "cells": [
  {
   "cell_type": "code",
   "execution_count": 121,
   "metadata": {},
   "outputs": [],
   "source": [
    "import requests\n",
    "import json\n",
    "from dotenv import load_dotenv\n",
    "import os\n",
    "import pandas as pd\n",
    "from functools import reduce\n",
    "import operator"
   ]
  },
  {
   "cell_type": "code",
   "execution_count": 15,
   "metadata": {},
   "outputs": [
    {
     "data": {
      "text/plain": [
       "True"
      ]
     },
     "execution_count": 15,
     "metadata": {},
     "output_type": "execute_result"
    }
   ],
   "source": [
    "load_dotenv()"
   ]
  },
  {
   "cell_type": "markdown",
   "metadata": {},
   "source": [
    "#### Paris: Fontain Agam. Melbourne: Australia Post. Sao Paulo: Sala Sao Paulo"
   ]
  },
  {
   "cell_type": "code",
   "execution_count": 28,
   "metadata": {},
   "outputs": [],
   "source": [
    "paris_ld = {'type': 'Point', 'coordinates': ['48.8905568192578','2.242512906913018']}"
   ]
  },
  {
   "cell_type": "code",
   "execution_count": 17,
   "metadata": {},
   "outputs": [],
   "source": [
    "melbourne_cbd = {'type': 'Point', 'coordinates': ['-37.81227175879301','144.96262186884945']}"
   ]
  },
  {
   "cell_type": "code",
   "execution_count": 19,
   "metadata": {},
   "outputs": [],
   "source": [
    "sao_paulo_zc = {'type': 'Point', 'coordinates': ['-23.533215960575276','-46.639408758375076']}"
   ]
  },
  {
   "cell_type": "code",
   "execution_count": 31,
   "metadata": {},
   "outputs": [],
   "source": [
    "def getdata_fsq(url, city, venue):\n",
    "    client_id = os.getenv(\"tok1\")\n",
    "    client_secret = os.getenv(\"tok2\")\n",
    "    url_ = f'{url}'\n",
    "    c = city['coordinates'][0]\n",
    "    c1 = city['coordinates'][1]\n",
    "    #v = f'{venue}'\n",
    "    parametros = {\"client_id\": client_id, \"client_secret\": client_secret, \"v\": \"20180323\", \"ll\": f'{c}, {c1}',\n",
    "                  \"query\": venue, \"limit\": 55}\n",
    "    resp = requests.get(url_, params=parametros).json()\n",
    "    return resp"
   ]
  },
  {
   "cell_type": "markdown",
   "metadata": {},
   "source": [
    "#### HACER UNA FUNCION PARA GENERAR DATAS POR CADA RUBRO, POR CADA CIUDAD"
   ]
  },
  {
   "cell_type": "code",
   "execution_count": 124,
   "metadata": {},
   "outputs": [],
   "source": [
    "datap = getdata_fsq('https://api.foursquare.com/v2/venues/search', paris_ld, 'vegan')"
   ]
  },
  {
   "cell_type": "code",
   "execution_count": 126,
   "metadata": {},
   "outputs": [],
   "source": [
    "datap_= datap['response']['venues']"
   ]
  },
  {
   "cell_type": "code",
   "execution_count": 138,
   "metadata": {},
   "outputs": [],
   "source": [
    "map_name = ['name']\n",
    "map_city = ['location', 'city']\n",
    "map_lat = ['location', 'lat']\n",
    "map_long = ['location', 'lng']"
   ]
  },
  {
   "cell_type": "code",
   "execution_count": 139,
   "metadata": {},
   "outputs": [],
   "source": [
    "def getFromDict(dic,map_):\n",
    "    return reduce(operator.getitem, map_, dic)"
   ]
  },
  {
   "cell_type": "code",
   "execution_count": 140,
   "metadata": {},
   "outputs": [],
   "source": [
    "def type_point(gps):\n",
    "    return {\"type\": \"Point\", \"coordinates\": gps}"
   ]
  },
  {
   "cell_type": "markdown",
   "metadata": {},
   "source": [
    "#### HACER FUNCION PARA GENERAR UN JSON POR CADA DATA"
   ]
  },
  {
   "cell_type": "code",
   "execution_count": 141,
   "metadata": {},
   "outputs": [],
   "source": [
    "gastr = []\n",
    "for dic in datap_:\n",
    "    ndic = {}\n",
    "    ndic['name']= getFromDict(dic,map_name)\n",
    "    ndic['city']= getFromDict(dic,map_city)\n",
    "    ndic['latitude']= getFromDict(dic,map_lat)\n",
    "    ndic['longitude']= getFromDict(dic,map_long)\n",
    "    ndic['location']= type_point([ndic[\"latitude\"],ndic[\"longitude\"]])\n",
    "    gastr.append(ndic)"
   ]
  },
  {
   "cell_type": "markdown",
   "metadata": {},
   "source": [
    "#### HACER FUNCION PARA GENERAR LOS JSON"
   ]
  },
  {
   "cell_type": "code",
   "execution_count": 142,
   "metadata": {},
   "outputs": [],
   "source": [
    "with open('vegans.json', 'w') as f:\n",
    "    json.dump(gastr, f)"
   ]
  },
  {
   "cell_type": "code",
   "execution_count": null,
   "metadata": {},
   "outputs": [],
   "source": [
    "#def jsongenerator(name):\n",
    "    "
   ]
  }
 ],
 "metadata": {
  "kernelspec": {
   "display_name": "ironcon",
   "language": "python",
   "name": "ironcon"
  },
  "language_info": {
   "codemirror_mode": {
    "name": "ipython",
    "version": 3
   },
   "file_extension": ".py",
   "mimetype": "text/x-python",
   "name": "python",
   "nbconvert_exporter": "python",
   "pygments_lexer": "ipython3",
   "version": "3.8.11"
  }
 },
 "nbformat": 4,
 "nbformat_minor": 4
}
