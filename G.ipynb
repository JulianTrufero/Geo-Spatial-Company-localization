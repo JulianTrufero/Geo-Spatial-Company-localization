{
 "cells": [
  {
   "cell_type": "code",
   "execution_count": 1,
   "metadata": {},
   "outputs": [],
   "source": [
    "import requests\n",
    "import json\n",
    "from dotenv import load_dotenv\n",
    "import os\n",
    "import pandas as pd\n",
    "from functools import reduce\n",
    "import operator\n",
    "\n",
    "import pymongo"
   ]
  },
  {
   "cell_type": "code",
   "execution_count": 2,
   "metadata": {},
   "outputs": [
    {
     "data": {
      "text/plain": [
       "True"
      ]
     },
     "execution_count": 2,
     "metadata": {},
     "output_type": "execute_result"
    }
   ],
   "source": [
    "load_dotenv()"
   ]
  },
  {
   "cell_type": "markdown",
   "metadata": {},
   "source": [
    "#### Paris: Palais Garnier Sao Paulo: Sala Sao Paulo"
   ]
  },
  {
   "cell_type": "code",
   "execution_count": 37,
   "metadata": {},
   "outputs": [],
   "source": [
    "paris_ld = {'type': 'Point', 'coordinates': [48.87241163769417,2.3317031342524017]}"
   ]
  },
  {
   "cell_type": "code",
   "execution_count": 23,
   "metadata": {},
   "outputs": [],
   "source": [
    "melbourne_cbd = {'type': 'Point', 'coordinates': ['-37.81227175879301','144.96262186884945']}"
   ]
  },
  {
   "cell_type": "code",
   "execution_count": 24,
   "metadata": {},
   "outputs": [],
   "source": [
    "sao_paulo_zc = {'type': 'Point', 'coordinates': ['-23.533215960575276','-46.639408758375076']}"
   ]
  },
  {
   "cell_type": "code",
   "execution_count": 26,
   "metadata": {},
   "outputs": [],
   "source": [
    "def getdata_fsq(url, city, venue):\n",
    "    client_id = os.getenv(\"tok1\")\n",
    "    client_secret = os.getenv(\"tok2\")\n",
    "    url_ = f'{url}'\n",
    "    c = city['coordinates'][0]\n",
    "    c1 = city['coordinates'][1]\n",
    "    parametros = {\"client_id\": client_id, \"client_secret\": client_secret, \"v\": \"20180323\", \"ll\": f'{c}, {c1}',\n",
    "                  \"query\": venue, \"limit\": 55}\n",
    "    resp = requests.get(url_, params=parametros).json()\n",
    "    return resp"
   ]
  },
  {
   "cell_type": "markdown",
   "metadata": {},
   "source": [
    "#### HACER UNA FUNCION PARA GENERAR DATAS POR CADA RUBRO, POR CADA CIUDAD"
   ]
  },
  {
   "cell_type": "code",
   "execution_count": null,
   "metadata": {},
   "outputs": [],
   "source": [
    "#def func(url, city, venue):\n",
    "    cathegories = []\n",
    "    for c in cathegories:\n",
    "        "
   ]
  },
  {
   "cell_type": "code",
   "execution_count": 27,
   "metadata": {},
   "outputs": [],
   "source": [
    "datap = getdata_fsq('https://api.foursquare.com/v2/venues/search', paris_ld, 'vegan')"
   ]
  },
  {
   "cell_type": "code",
   "execution_count": 44,
   "metadata": {},
   "outputs": [],
   "source": [
    "datapa = getdata_fsq('https://api.foursquare.com/v2/venues/search', paris_ld, 'airport')"
   ]
  },
  {
   "cell_type": "code",
   "execution_count": 50,
   "metadata": {},
   "outputs": [],
   "source": [
    "datapg = getdata_fsq('https://api.foursquare.com/v2/venues/search', paris_ld, 'gare')"
   ]
  },
  {
   "cell_type": "code",
   "execution_count": 38,
   "metadata": {},
   "outputs": [],
   "source": [
    "datapsb = getdata_fsq('https://api.foursquare.com/v2/venues/search', paris_ld, 'starbucks')"
   ]
  },
  {
   "cell_type": "code",
   "execution_count": 56,
   "metadata": {},
   "outputs": [],
   "source": [
    "datapv = getdata_fsq('https://api.foursquare.com/v2/venues/search', paris_ld, 'veterinaire')"
   ]
  },
  {
   "cell_type": "code",
   "execution_count": 60,
   "metadata": {},
   "outputs": [],
   "source": [
    "datapb = getdata_fsq('https://api.foursquare.com/v2/venues/search', paris_ld, 'basketball')"
   ]
  },
  {
   "cell_type": "code",
   "execution_count": 65,
   "metadata": {},
   "outputs": [],
   "source": [
    "datasc = getdata_fsq('https://api.foursquare.com/v2/venues/search', paris_ld, 'ecole')"
   ]
  },
  {
   "cell_type": "code",
   "execution_count": null,
   "metadata": {},
   "outputs": [],
   "source": []
  },
  {
   "cell_type": "code",
   "execution_count": null,
   "metadata": {},
   "outputs": [],
   "source": []
  },
  {
   "cell_type": "code",
   "execution_count": 98,
   "metadata": {},
   "outputs": [],
   "source": [
    "datap_= datap['response']['venues']"
   ]
  },
  {
   "cell_type": "code",
   "execution_count": 99,
   "metadata": {},
   "outputs": [
    {
     "data": {
      "text/plain": [
       "50"
      ]
     },
     "execution_count": 99,
     "metadata": {},
     "output_type": "execute_result"
    }
   ],
   "source": [
    "len(datasc_)"
   ]
  },
  {
   "cell_type": "code",
   "execution_count": 107,
   "metadata": {
    "scrolled": true
   },
   "outputs": [
    {
     "data": {
      "text/plain": [
       "{'id': '558038c8498e11d4ab3104eb',\n",
       " 'name': 'Véganie',\n",
       " 'contact': {},\n",
       " 'location': {'address': '96 rue Quincampoix',\n",
       "  'lat': 48.86290042062885,\n",
       "  'lng': 2.3515370674431324,\n",
       "  'labeledLatLngs': [{'label': 'display',\n",
       "    'lat': 48.86290042062885,\n",
       "    'lng': 2.3515370674431324}],\n",
       "  'distance': 8555,\n",
       "  'postalCode': '75003',\n",
       "  'cc': 'FR',\n",
       "  'city': 'Paris',\n",
       "  'state': 'Île-de-France',\n",
       "  'country': 'France',\n",
       "  'formattedAddress': ['96 rue Quincampoix', '75003 Paris', 'France']},\n",
       " 'categories': [{'id': '4bf58dd8d48988d10c951735',\n",
       "   'name': 'Cosmetics Shop',\n",
       "   'pluralName': 'Cosmetics Shops',\n",
       "   'shortName': 'Cosmetics',\n",
       "   'icon': {'prefix': 'https://ss3.4sqi.net/img/categories_v2/shops/beauty_cosmetic_',\n",
       "    'suffix': '.png'},\n",
       "   'primary': True}],\n",
       " 'verified': False,\n",
       " 'stats': {'tipCount': 0,\n",
       "  'usersCount': 0,\n",
       "  'checkinsCount': 0,\n",
       "  'visitsCount': 0},\n",
       " 'beenHere': {'count': 0,\n",
       "  'lastCheckinExpiredAt': 0,\n",
       "  'marked': False,\n",
       "  'unconfirmedCount': 0},\n",
       " 'hereNow': {'count': 0, 'summary': 'Nobody here', 'groups': []},\n",
       " 'referralId': 'v-1630771661',\n",
       " 'venueChains': [],\n",
       " 'hasPerk': False}"
      ]
     },
     "execution_count": 107,
     "metadata": {},
     "output_type": "execute_result"
    }
   ],
   "source": [
    "datap_[1]"
   ]
  },
  {
   "cell_type": "code",
   "execution_count": null,
   "metadata": {},
   "outputs": [],
   "source": []
  },
  {
   "cell_type": "code",
   "execution_count": null,
   "metadata": {},
   "outputs": [],
   "source": []
  },
  {
   "cell_type": "code",
   "execution_count": 73,
   "metadata": {},
   "outputs": [],
   "source": [
    "def getFromDict(dic,map_):\n",
    "    return reduce(operator.getitem, map_, dic)"
   ]
  },
  {
   "cell_type": "code",
   "execution_count": 74,
   "metadata": {},
   "outputs": [],
   "source": [
    "def type_point(gps):\n",
    "    return {\"type\": \"Point\", \"coordinates\": gps}"
   ]
  },
  {
   "cell_type": "markdown",
   "metadata": {},
   "source": [
    "#### HACER FUNCION PARA GENERAR UN JSON POR CADA DATA agregar Tipo (vegan, starb, etc)"
   ]
  },
  {
   "cell_type": "code",
   "execution_count": 114,
   "metadata": {},
   "outputs": [],
   "source": [
    "map_name = ['name']\n",
    "map_categories = ['categories']\n",
    "map_city = ['location', 'city']\n",
    "map_lat = ['location', 'lat']\n",
    "map_long = ['location', 'lng']\n",
    "gastr = []\n",
    "for dic in datap_:\n",
    "    ndic = {}\n",
    "    ndic['name']= getFromDict(dic,map_name)\n",
    "    ndic['categories']= getFromDict(dic,map_categories)\n",
    "    ndic['city']= getFromDict(dic,map_city)\n",
    "    ndic['latitude']= getFromDict(dic,map_lat)\n",
    "    ndic['longitude']= getFromDict(dic,map_long)\n",
    "    ndic['location']= type_point([ndic[\"latitude\"],ndic[\"longitude\"]])\n",
    "    gastr.append(ndic)"
   ]
  },
  {
   "cell_type": "code",
   "execution_count": 75,
   "metadata": {},
   "outputs": [],
   "source": [
    "map_name = ['name']\n",
    "map_city = ['location', 'city']\n",
    "map_lat = ['location', 'lat']\n",
    "map_long = ['location', 'lng']\n",
    "gastr = []\n",
    "for dic in datapsb_:\n",
    "    ndic = {}\n",
    "    ndic['name']= getFromDict(dic,map_name)\n",
    "    ndic['city']= getFromDict(dic,map_city)\n",
    "    ndic['latitude']= getFromDict(dic,map_lat)\n",
    "    ndic['longitude']= getFromDict(dic,map_long)\n",
    "    ndic['location']= type_point([ndic[\"latitude\"],ndic[\"longitude\"]])\n",
    "    gastr.append(ndic)"
   ]
  },
  {
   "cell_type": "markdown",
   "metadata": {},
   "source": [
    "#### HACER FUNCION PARA GENERAR LOS JSON"
   ]
  },
  {
   "cell_type": "code",
   "execution_count": 115,
   "metadata": {},
   "outputs": [],
   "source": [
    "#def jsongenerator(name):\n",
    "with open('vegans.json', 'w') as f:\n",
    "    json.dump(gastr, f)"
   ]
  },
  {
   "cell_type": "code",
   "execution_count": 76,
   "metadata": {},
   "outputs": [],
   "source": [
    "with open('starbucks.json', 'w') as f:\n",
    "    json.dump(gastr, f)"
   ]
  },
  {
   "cell_type": "markdown",
   "metadata": {},
   "source": [
    "#### llamada a la collection"
   ]
  },
  {
   "cell_type": "code",
   "execution_count": 127,
   "metadata": {},
   "outputs": [],
   "source": [
    "from pymongo import MongoClient\n",
    "client = MongoClient(\"localhost:27017\")\n",
    "db = client.get_database(\"GeoSpatialProyect\")"
   ]
  },
  {
   "cell_type": "code",
   "execution_count": 128,
   "metadata": {},
   "outputs": [
    {
     "data": {
      "text/plain": [
       "Database(MongoClient(host=['localhost:27017'], document_class=dict, tz_aware=False, connect=True), 'GeoSpatialProyect')"
      ]
     },
     "execution_count": 128,
     "metadata": {},
     "output_type": "execute_result"
    }
   ],
   "source": [
    "db"
   ]
  },
  {
   "cell_type": "code",
   "execution_count": 129,
   "metadata": {},
   "outputs": [],
   "source": [
    "g = db.get_collection(\"gastronomy\")"
   ]
  },
  {
   "cell_type": "code",
   "execution_count": 130,
   "metadata": {},
   "outputs": [
    {
     "data": {
      "text/plain": [
       "dict_keys(['_id', 'name', 'categories', 'city', 'latitude', 'longitude', 'location'])"
      ]
     },
     "execution_count": 130,
     "metadata": {},
     "output_type": "execute_result"
    }
   ],
   "source": [
    "g.find_one().keys()"
   ]
  },
  {
   "cell_type": "code",
   "execution_count": null,
   "metadata": {},
   "outputs": [],
   "source": []
  },
  {
   "cell_type": "code",
   "execution_count": null,
   "metadata": {},
   "outputs": [],
   "source": []
  },
  {
   "cell_type": "code",
   "execution_count": 122,
   "metadata": {},
   "outputs": [],
   "source": [
    "query = {\"location\": {\"$near\": {\"$geometry\": paris_ld, \"$minDistance\": 0 ,\"$maxDistance\": 1000}}}"
   ]
  },
  {
   "cell_type": "code",
   "execution_count": null,
   "metadata": {},
   "outputs": [],
   "source": [
    "#{'categories': [{'name': 'Restaurants'}]}"
   ]
  },
  {
   "cell_type": "code",
   "execution_count": 172,
   "metadata": {},
   "outputs": [],
   "source": [
    "cond1 = {'categories': [0]}"
   ]
  },
  {
   "cell_type": "code",
   "execution_count": 173,
   "metadata": {},
   "outputs": [],
   "source": [
    "cond2 = {\"location\": {\"$near\": {\"$geometry\": paris_ld, \"$minDistance\": 0 ,\"$maxDistance\": 10000}}}"
   ]
  },
  {
   "cell_type": "code",
   "execution_count": 174,
   "metadata": {},
   "outputs": [],
   "source": [
    "query2 = {'$and': [cond1, cond2]}"
   ]
  },
  {
   "cell_type": "code",
   "execution_count": 175,
   "metadata": {},
   "outputs": [
    {
     "data": {
      "text/plain": [
       "[]"
      ]
     },
     "execution_count": 175,
     "metadata": {},
     "output_type": "execute_result"
    }
   ],
   "source": [
    "list(g.find(query2))"
   ]
  },
  {
   "cell_type": "code",
   "execution_count": null,
   "metadata": {},
   "outputs": [],
   "source": []
  }
 ],
 "metadata": {
  "kernelspec": {
   "display_name": "ironcon",
   "language": "python",
   "name": "ironcon"
  },
  "language_info": {
   "codemirror_mode": {
    "name": "ipython",
    "version": 3
   },
   "file_extension": ".py",
   "mimetype": "text/x-python",
   "name": "python",
   "nbconvert_exporter": "python",
   "pygments_lexer": "ipython3",
   "version": "3.8.11"
  }
 },
 "nbformat": 4,
 "nbformat_minor": 4
}
