{
 "cells": [
  {
   "cell_type": "code",
   "execution_count": 1,
   "metadata": {},
   "outputs": [],
   "source": [
    "import requests\n",
    "import json\n",
    "from dotenv import load_dotenv\n",
    "import os\n",
    "import pandas as pd\n",
    "from functools import reduce\n",
    "import operator\n",
    "\n",
    "import pymongo"
   ]
  },
  {
   "cell_type": "markdown",
   "metadata": {},
   "source": [
    "#### Melbourne: Australia Post"
   ]
  },
  {
   "cell_type": "code",
   "execution_count": null,
   "metadata": {},
   "outputs": [],
   "source": [
    "melbourne_cbd = {'type': 'Point', 'coordinates': ['-37.81227175879301','144.96262186884945']}"
   ]
  },
  {
   "cell_type": "code",
   "execution_count": null,
   "metadata": {},
   "outputs": [],
   "source": [
    "def getdata_fsq(url, city, venue):\n",
    "    client_id = os.getenv(\"tok1\")\n",
    "    client_secret = os.getenv(\"tok2\")\n",
    "    url_ = f'{url}'\n",
    "    c = city['coordinates'][0]\n",
    "    c1 = city['coordinates'][1]\n",
    "    parametros = {\"client_id\": client_id, \"client_secret\": client_secret, \"v\": \"20180323\", \"ll\": f'{c}, {c1}',\n",
    "                  \"query\": venue, \"limit\": 55}\n",
    "    resp = requests.get(url_, params=parametros).json()\n",
    "    return resp"
   ]
  },
  {
   "cell_type": "code",
   "execution_count": null,
   "metadata": {},
   "outputs": [],
   "source": [
    "datam = getdata_fsq('https://api.foursquare.com/v2/venues/search', melbourne_cbd, 'airport')"
   ]
  },
  {
   "cell_type": "code",
   "execution_count": null,
   "metadata": {},
   "outputs": [],
   "source": [
    "datam_= datam['response']['venues']"
   ]
  },
  {
   "cell_type": "code",
   "execution_count": null,
   "metadata": {},
   "outputs": [],
   "source": [
    "def getFromDict(dic,map_):\n",
    "    return reduce(operator.getitem, map_, dic)"
   ]
  },
  {
   "cell_type": "code",
   "execution_count": null,
   "metadata": {},
   "outputs": [],
   "source": [
    "def type_point(gps):\n",
    "    return {\"type\": \"Point\", \"coordinates\": gps}"
   ]
  },
  {
   "cell_type": "code",
   "execution_count": null,
   "metadata": {},
   "outputs": [],
   "source": [
    "airp = []\n",
    "for dic in datam_:\n",
    "    ndic = {}\n",
    "    ndic['name']= getFromDict(dic,map_name)\n",
    "#    ndic['city']= getFromDict(dic,map_city)\n",
    "    ndic['latitude']= getFromDict(dic,map_lat)\n",
    "    ndic['longitude']= getFromDict(dic,map_long)\n",
    "    ndic['location']= type_point([ndic[\"longitude\"], ndic[\"latitude\"]])\n",
    "    airp.append(ndic)"
   ]
  },
  {
   "cell_type": "code",
   "execution_count": null,
   "metadata": {},
   "outputs": [],
   "source": [
    "with open('airportsm.json', 'w') as f:\n",
    "    json.dump(airp, f)"
   ]
  }
 ],
 "metadata": {
  "kernelspec": {
   "display_name": "ironcon",
   "language": "python",
   "name": "ironcon"
  },
  "language_info": {
   "codemirror_mode": {
    "name": "ipython",
    "version": 3
   },
   "file_extension": ".py",
   "mimetype": "text/x-python",
   "name": "python",
   "nbconvert_exporter": "python",
   "pygments_lexer": "ipython3",
   "version": "3.8.11"
  }
 },
 "nbformat": 4,
 "nbformat_minor": 4
}
