{
 "cells": [
  {
   "cell_type": "markdown",
   "metadata": {},
   "source": [
    "# COMPANY LOCALIZATION"
   ]
  },
  {
   "cell_type": "markdown",
   "metadata": {},
   "source": [
    "#### 1. Let's import the libraries that we'll use"
   ]
  },
  {
   "cell_type": "code",
   "execution_count": 126,
   "metadata": {},
   "outputs": [],
   "source": [
    "import json\n",
    "from functools import reduce\n",
    "import numpy as np\n",
    "import operator\n",
    "import os\n",
    "import pandas as pd\n",
    "import pymongo\n",
    "from pymongo import MongoClient\n",
    "import requests\n",
    "import sys\n",
    "sys.path.append('../')\n",
    "import scr.data_functions as cf"
   ]
  },
  {
   "cell_type": "markdown",
   "metadata": {},
   "source": [
    "### In order to place the new offices for the company, we seleted three different locations:\n",
    "### - Palais Garnier area in Paris, France.\n",
    "### - Downtown Melbourne, in Australia\n",
    "### - Downtown Sao Paulo, in Brazil\n",
    "###  To define the best place for the company to grow, we selected 8 different criteria based on the company's employee composition and preferences: Number of airports within a radius of 20km around, commuter stations, airport shuttles, schools and vegan restaurants within a radius of 2km around, veterinaries within a radius of 3km around, Starbucks cafe's within a radius of 500m around, and basketball courts within a radius of 10km around.\n",
    "###  Later on, we'll build a score assigning weights to each quantity in order to balance the preferences and then adding all quantities for each city. We will make a decision based on that score, the city with the bigger score will be the one hosting the new offices."
   ]
  },
  {
   "cell_type": "markdown",
   "metadata": {},
   "source": [
    "## GEOQUERIES"
   ]
  },
  {
   "cell_type": "markdown",
   "metadata": {},
   "source": [
    "#### 2. Now, we make connection with our Mongo DB, \"GeoSpatialProyect\", and define one variable for each collection we have in our database"
   ]
  },
  {
   "cell_type": "code",
   "execution_count": 3,
   "metadata": {},
   "outputs": [
    {
     "data": {
      "text/plain": [
       "Database(MongoClient(host=['localhost:27017'], document_class=dict, tz_aware=False, connect=True), 'GeoSpatialProyect')"
      ]
     },
     "execution_count": 3,
     "metadata": {},
     "output_type": "execute_result"
    }
   ],
   "source": [
    "client = MongoClient(\"localhost:27017\")\n",
    "db = client.get_database(\"GeoSpatialProyect\")\n",
    "db"
   ]
  },
  {
   "cell_type": "code",
   "execution_count": 4,
   "metadata": {},
   "outputs": [],
   "source": [
    "transport = db.get_collection(\"transport\")"
   ]
  },
  {
   "cell_type": "code",
   "execution_count": 5,
   "metadata": {},
   "outputs": [],
   "source": [
    "gastronomy = db.get_collection(\"gastronomy\")"
   ]
  },
  {
   "cell_type": "code",
   "execution_count": 6,
   "metadata": {},
   "outputs": [],
   "source": [
    "schools = db.get_collection(\"schools\")"
   ]
  },
  {
   "cell_type": "code",
   "execution_count": 7,
   "metadata": {},
   "outputs": [],
   "source": [
    "veterinary = db.get_collection(\"veterinary\")"
   ]
  },
  {
   "cell_type": "code",
   "execution_count": 8,
   "metadata": {},
   "outputs": [],
   "source": [
    "basketball = db.get_collection(\"basketball\")"
   ]
  },
  {
   "cell_type": "markdown",
   "metadata": {},
   "source": [
    "#### 3. We'll perform a geo query in each collection we have, for the selected citities."
   ]
  },
  {
   "cell_type": "markdown",
   "metadata": {},
   "source": [
    "### PARIS"
   ]
  },
  {
   "cell_type": "code",
   "execution_count": 9,
   "metadata": {},
   "outputs": [],
   "source": [
    "paris_pg = {'type': 'Point', 'coordinates': [48.87241163769417,2.3317031342524017]}"
   ]
  },
  {
   "cell_type": "markdown",
   "metadata": {},
   "source": [
    "#### - Transport queries:"
   ]
  },
  {
   "cell_type": "code",
   "execution_count": 37,
   "metadata": {},
   "outputs": [],
   "source": [
    "p_transport = [cf.geoquering(c, 2000, transport, paris_pg) for c in ['Train Station', 'Bus Stop', 'Transportation Service']]"
   ]
  },
  {
   "cell_type": "code",
   "execution_count": 47,
   "metadata": {},
   "outputs": [],
   "source": [
    "p_airports = cf.geoquering('Airport', 20000, transport, paris_pg)"
   ]
  },
  {
   "cell_type": "markdown",
   "metadata": {},
   "source": [
    "#### - Schools queries:"
   ]
  },
  {
   "cell_type": "code",
   "execution_count": 130,
   "metadata": {},
   "outputs": [],
   "source": [
    "p_schools = [cf.geoquering(c, 2000, schools, paris_pg) for c in ['Nursery School', 'Elementary School', 'High School']]"
   ]
  },
  {
   "cell_type": "code",
   "execution_count": 131,
   "metadata": {},
   "outputs": [
    {
     "data": {
      "text/plain": [
       "[{'_id': ObjectId('6134a0143681de6a29cd9ef4'),\n",
       "  'name': 'École Maternelle Blanche',\n",
       "  'categories': [{'id': '4f4533814b9074f6e4fb0107',\n",
       "    'name': 'Nursery School',\n",
       "    'pluralName': 'Nursery Schools',\n",
       "    'shortName': 'Nursery School',\n",
       "    'icon': {'prefix': 'https://ss3.4sqi.net/img/categories_v2/building/school_',\n",
       "     'suffix': '.png'},\n",
       "    'primary': True}],\n",
       "  'latitude': 48.87691559701054,\n",
       "  'longitude': 2.33236698792296,\n",
       "  'location': {'type': 'Point',\n",
       "   'coordinates': [48.87691559701054, 2.33236698792296]}},\n",
       " {'_id': ObjectId('6134a0143681de6a29cd9efb'),\n",
       "  'name': 'Ecole Maternelle Moscou',\n",
       "  'categories': [{'id': '4f4533814b9074f6e4fb0107',\n",
       "    'name': 'Nursery School',\n",
       "    'pluralName': 'Nursery Schools',\n",
       "    'shortName': 'Nursery School',\n",
       "    'icon': {'prefix': 'https://ss3.4sqi.net/img/categories_v2/building/school_',\n",
       "     'suffix': '.png'},\n",
       "    'primary': True}],\n",
       "  'latitude': 48.880193,\n",
       "  'longitude': 2.326016,\n",
       "  'location': {'type': 'Point', 'coordinates': [48.880193, 2.326016]}},\n",
       " {'_id': ObjectId('6134a0143681de6a29cd9ef9'),\n",
       "  'name': 'Ecole Maternelle Milton',\n",
       "  'categories': [{'id': '4f4533814b9074f6e4fb0107',\n",
       "    'name': 'Nursery School',\n",
       "    'pluralName': 'Nursery Schools',\n",
       "    'shortName': 'Nursery School',\n",
       "    'icon': {'prefix': 'https://ss3.4sqi.net/img/categories_v2/building/school_',\n",
       "     'suffix': '.png'},\n",
       "    'primary': True}],\n",
       "  'latitude': 48.877304,\n",
       "  'longitude': 2.340621,\n",
       "  'location': {'type': 'Point', 'coordinates': [48.877304, 2.340621]}}]"
      ]
     },
     "execution_count": 131,
     "metadata": {},
     "output_type": "execute_result"
    }
   ],
   "source": [
    "p_schools[0]"
   ]
  },
  {
   "cell_type": "markdown",
   "metadata": {},
   "source": [
    "#### - Gastronomy queries:"
   ]
  },
  {
   "cell_type": "code",
   "execution_count": 49,
   "metadata": {},
   "outputs": [],
   "source": [
    "p_vegan = [cf.geoquering(c, 2000, gastronomy, paris_pg) for c in ['Vegetarian / Vegan Restaurant', 'Restaurant', 'Snack Place']]"
   ]
  },
  {
   "cell_type": "code",
   "execution_count": 51,
   "metadata": {},
   "outputs": [],
   "source": [
    "p_starbucks = cf.geoquering('Coffee Shop', 500, gastronomy, paris_pg)"
   ]
  },
  {
   "cell_type": "markdown",
   "metadata": {},
   "source": [
    "#### - Veterinary queries:"
   ]
  },
  {
   "cell_type": "code",
   "execution_count": 52,
   "metadata": {},
   "outputs": [],
   "source": [
    "p_veterinarian = cf.geoquering('Veterinarian', 3000, veterinary, paris_pg)"
   ]
  },
  {
   "cell_type": "markdown",
   "metadata": {},
   "source": [
    "#### - Basket queries:"
   ]
  },
  {
   "cell_type": "code",
   "execution_count": 53,
   "metadata": {},
   "outputs": [],
   "source": [
    "p_basketball_court = cf.geoquering('Basketball Court', 10000, basketball, paris_pg)"
   ]
  },
  {
   "cell_type": "code",
   "execution_count": 54,
   "metadata": {},
   "outputs": [],
   "source": [
    "geoqueries_paris = np.array([len(p_airports), len(p_transport[0]), (len(p_transport[1]) + len(p_transport[2])),\n",
    "                    (len(p_schools[0]) + len(p_schools[1]) + len(p_schools[2])),\n",
    "                    (len(p_vegan[0])+ len(p_vegan[1]) + len(p_vegan[2])),\n",
    "                    len(p_veterinarian), len(p_starbucks), len(p_basketball_court)])"
   ]
  },
  {
   "cell_type": "markdown",
   "metadata": {},
   "source": [
    "### MELBOURNE"
   ]
  },
  {
   "cell_type": "code",
   "execution_count": 59,
   "metadata": {},
   "outputs": [],
   "source": [
    "melbourne_cbd = {'type': 'Point', 'coordinates': [144.96262186884945, -37.81227175879301]}"
   ]
  },
  {
   "cell_type": "markdown",
   "metadata": {},
   "source": [
    "#### - Transport queries:"
   ]
  },
  {
   "cell_type": "code",
   "execution_count": 60,
   "metadata": {},
   "outputs": [],
   "source": [
    "m_transport = [cf.geoquering(c, 2000, transport, melbourne_cbd) for c in ['Train Station', 'Bus Line', 'Transportation Service']]"
   ]
  },
  {
   "cell_type": "code",
   "execution_count": 79,
   "metadata": {},
   "outputs": [],
   "source": [
    "m_airports = cf.geoquering('Airport', 20000, transport, melbourne_cbd)"
   ]
  },
  {
   "cell_type": "markdown",
   "metadata": {},
   "source": [
    "#### - Schools queries:"
   ]
  },
  {
   "cell_type": "code",
   "execution_count": 77,
   "metadata": {},
   "outputs": [],
   "source": [
    "m_schools = [cf.geoquering(c, 2000, schools, melbourne_cbd) for c in ['Elementary School', 'High School', 'Daycare']]"
   ]
  },
  {
   "cell_type": "markdown",
   "metadata": {},
   "source": [
    "#### - Gastronomy queries:"
   ]
  },
  {
   "cell_type": "code",
   "execution_count": 85,
   "metadata": {},
   "outputs": [],
   "source": [
    "m_vegan = [cf.geoquering(c, 2000, gastronomy, melbourne_cbd) for c in ['Vegetarian / Vegan Restaurant', 'Restaurant', 'Snack Place']]"
   ]
  },
  {
   "cell_type": "code",
   "execution_count": 86,
   "metadata": {},
   "outputs": [],
   "source": [
    "m_starbucks = cf.geoquering('Coffee Shop', 500, gastronomy, melbourne_cbd)"
   ]
  },
  {
   "cell_type": "markdown",
   "metadata": {},
   "source": [
    "#### - Veterinary queries:"
   ]
  },
  {
   "cell_type": "code",
   "execution_count": 88,
   "metadata": {},
   "outputs": [],
   "source": [
    "m_veterinarian = cf.geoquering('Veterinarian', 3000, veterinary, melbourne_cbd)"
   ]
  },
  {
   "cell_type": "markdown",
   "metadata": {},
   "source": [
    "#### - Basket queries:"
   ]
  },
  {
   "cell_type": "code",
   "execution_count": 90,
   "metadata": {},
   "outputs": [],
   "source": [
    "m_basketball_court = cf.geoquering('Basketball Court', 10000, basketball, melbourne_cbd)"
   ]
  },
  {
   "cell_type": "code",
   "execution_count": 91,
   "metadata": {},
   "outputs": [],
   "source": [
    "geoqueries_melbourne = np.array([len(m_airports), len(m_transport[0]), (len(m_transport[1]) + len(m_transport[2])),\n",
    "                    (len(m_schools[0]) + len(m_schools[1]) + len(m_schools[2])),\n",
    "                    (len(m_vegan[0])+ len(m_vegan[1]) + len(m_vegan[2])),\n",
    "                    len(m_veterinarian), len(m_starbucks), len(m_basketball_court)])"
   ]
  },
  {
   "cell_type": "markdown",
   "metadata": {},
   "source": [
    "### SAO PAULO"
   ]
  },
  {
   "cell_type": "code",
   "execution_count": 92,
   "metadata": {},
   "outputs": [],
   "source": [
    "sao_paulo_zc = {'type': 'Point', 'coordinates': [-46.639408758375076, -23.533215960575276]}"
   ]
  },
  {
   "cell_type": "markdown",
   "metadata": {},
   "source": [
    "#### - Transport queries:"
   ]
  },
  {
   "cell_type": "code",
   "execution_count": 108,
   "metadata": {},
   "outputs": [],
   "source": [
    "sp_transport = [cf.geoquering(c, 2000, transport, sao_paulo_zc) for c in ['Train Station', 'Bus Line', 'Transportation Service']]"
   ]
  },
  {
   "cell_type": "code",
   "execution_count": 109,
   "metadata": {},
   "outputs": [],
   "source": [
    "sp_airports = cf.geoquering('Airport', 20000, transport, sao_paulo_zc)"
   ]
  },
  {
   "cell_type": "markdown",
   "metadata": {},
   "source": [
    "#### - Schools queries:"
   ]
  },
  {
   "cell_type": "code",
   "execution_count": 110,
   "metadata": {},
   "outputs": [],
   "source": [
    "m_schools = [cf.geoquering(c, 2000, schools, sao_paulo_zc) for c in ['Nursery School', 'Elementary School', 'High School']]"
   ]
  },
  {
   "cell_type": "markdown",
   "metadata": {},
   "source": [
    "#### - Gastronomy queries:"
   ]
  },
  {
   "cell_type": "code",
   "execution_count": 111,
   "metadata": {},
   "outputs": [],
   "source": [
    "sp_vegan = [cf.geoquering(c, 2000, gastronomy, sao_paulo_zc) for c in ['Vegetarian / Vegan Restaurant', 'Restaurant', 'Snack Place']]"
   ]
  },
  {
   "cell_type": "code",
   "execution_count": 112,
   "metadata": {},
   "outputs": [],
   "source": [
    "sp_starbucks = cf.geoquering('Coffee Shop', 500, gastronomy, sao_paulo_zc)"
   ]
  },
  {
   "cell_type": "markdown",
   "metadata": {},
   "source": [
    "#### - Veterinary queries:"
   ]
  },
  {
   "cell_type": "code",
   "execution_count": 117,
   "metadata": {},
   "outputs": [],
   "source": [
    "sp_veterinarian = cf.geoquering('Veterinarian', 3000, veterinary, sao_paulo_zc)"
   ]
  },
  {
   "cell_type": "markdown",
   "metadata": {},
   "source": [
    "#### - Basket queries:"
   ]
  },
  {
   "cell_type": "code",
   "execution_count": 118,
   "metadata": {},
   "outputs": [],
   "source": [
    "sp_basketball_court = cf.geoquering('Basketball Court', 10000, basketball, sao_paulo_zc)"
   ]
  },
  {
   "cell_type": "code",
   "execution_count": 119,
   "metadata": {},
   "outputs": [],
   "source": [
    "geoqueries_saopaulo = np.array([len(sp_airports), len(sp_transport[0]), (len(sp_transport[1]) + len(sp_transport[2])),\n",
    "                    (len(m_schools[0]) + len(m_schools[1]) + len(m_schools[2])),\n",
    "                    (len(sp_vegan[0])+ len(sp_vegan[1]) + len(sp_vegan[2])),\n",
    "                    len(sp_veterinarian), len(sp_starbucks), len(sp_basketball_court)])"
   ]
  },
  {
   "cell_type": "markdown",
   "metadata": {},
   "source": [
    "### SCORING AND FINAL DECISION"
   ]
  },
  {
   "cell_type": "markdown",
   "metadata": {},
   "source": [
    "#### - With our conditions, the queries results and the wieghts we built a data frame"
   ]
  },
  {
   "cell_type": "code",
   "execution_count": 120,
   "metadata": {},
   "outputs": [],
   "source": [
    "weights = np.array([0.19, 0.18, 0.17, 0.14, 0.12, 0.1, 0.05, 0.05])"
   ]
  },
  {
   "cell_type": "code",
   "execution_count": 121,
   "metadata": {},
   "outputs": [],
   "source": [
    "score_p = {'Conditions': ['Airports', 'Commuter Station', 'Airport Shuttle', 'Schools', 'Vegan Restaurants', \n",
    "                          'Veterinaries', 'Starbucks Cafe', 'Basketball Court'],\n",
    "           'Weights': [0.19, 0.18, 0.17, 0.14, 0.12, 0.1, 0.05, 0.05],\n",
    "           'Geoqueries Paris': geoqueries_paris, 'Score Paris': weights * geoqueries_paris,\n",
    "           'Geoqueries Melbourne': geoqueries_melbourne, 'Score Melbourne': weights * geoqueries_melbourne,\n",
    "           'Geoqueries Sao Paulo': geoqueries_saopaulo, 'Score Sao Paulo': weights * geoqueries_saopaulo}"
   ]
  },
  {
   "cell_type": "code",
   "execution_count": 122,
   "metadata": {},
   "outputs": [],
   "source": [
    "score_table = pd.DataFrame(score_p)"
   ]
  },
  {
   "cell_type": "code",
   "execution_count": 123,
   "metadata": {},
   "outputs": [],
   "source": [
    "suma = score_table.sum()"
   ]
  },
  {
   "cell_type": "code",
   "execution_count": 124,
   "metadata": {
    "scrolled": true
   },
   "outputs": [
    {
     "data": {
      "text/html": [
       "<div>\n",
       "<style scoped>\n",
       "    .dataframe tbody tr th:only-of-type {\n",
       "        vertical-align: middle;\n",
       "    }\n",
       "\n",
       "    .dataframe tbody tr th {\n",
       "        vertical-align: top;\n",
       "    }\n",
       "\n",
       "    .dataframe thead th {\n",
       "        text-align: right;\n",
       "    }\n",
       "</style>\n",
       "<table border=\"1\" class=\"dataframe\">\n",
       "  <thead>\n",
       "    <tr style=\"text-align: right;\">\n",
       "      <th></th>\n",
       "      <th>Conditions</th>\n",
       "      <th>Weights</th>\n",
       "      <th>Geoqueries Paris</th>\n",
       "      <th>Score Paris</th>\n",
       "      <th>Geoqueries Melbourne</th>\n",
       "      <th>Score Melbourne</th>\n",
       "      <th>Geoqueries Sao Paulo</th>\n",
       "      <th>Score Sao Paulo</th>\n",
       "    </tr>\n",
       "  </thead>\n",
       "  <tbody>\n",
       "    <tr>\n",
       "      <th>0</th>\n",
       "      <td>Airports</td>\n",
       "      <td>0.19</td>\n",
       "      <td>2</td>\n",
       "      <td>0.38</td>\n",
       "      <td>2</td>\n",
       "      <td>0.38</td>\n",
       "      <td>1</td>\n",
       "      <td>0.19</td>\n",
       "    </tr>\n",
       "    <tr>\n",
       "      <th>1</th>\n",
       "      <td>Commuter Station</td>\n",
       "      <td>0.18</td>\n",
       "      <td>1</td>\n",
       "      <td>0.18</td>\n",
       "      <td>7</td>\n",
       "      <td>1.26</td>\n",
       "      <td>2</td>\n",
       "      <td>0.36</td>\n",
       "    </tr>\n",
       "    <tr>\n",
       "      <th>2</th>\n",
       "      <td>Airport Shuttle</td>\n",
       "      <td>0.17</td>\n",
       "      <td>3</td>\n",
       "      <td>0.51</td>\n",
       "      <td>1</td>\n",
       "      <td>0.17</td>\n",
       "      <td>1</td>\n",
       "      <td>0.17</td>\n",
       "    </tr>\n",
       "    <tr>\n",
       "      <th>3</th>\n",
       "      <td>Schools</td>\n",
       "      <td>0.14</td>\n",
       "      <td>8</td>\n",
       "      <td>1.12</td>\n",
       "      <td>1</td>\n",
       "      <td>0.14</td>\n",
       "      <td>1</td>\n",
       "      <td>0.14</td>\n",
       "    </tr>\n",
       "    <tr>\n",
       "      <th>4</th>\n",
       "      <td>Vegan Restaurants</td>\n",
       "      <td>0.12</td>\n",
       "      <td>5</td>\n",
       "      <td>0.60</td>\n",
       "      <td>1</td>\n",
       "      <td>0.12</td>\n",
       "      <td>10</td>\n",
       "      <td>1.20</td>\n",
       "    </tr>\n",
       "    <tr>\n",
       "      <th>5</th>\n",
       "      <td>Veterinaries</td>\n",
       "      <td>0.10</td>\n",
       "      <td>11</td>\n",
       "      <td>1.10</td>\n",
       "      <td>1</td>\n",
       "      <td>0.10</td>\n",
       "      <td>5</td>\n",
       "      <td>0.50</td>\n",
       "    </tr>\n",
       "    <tr>\n",
       "      <th>6</th>\n",
       "      <td>Starbucks Cafe</td>\n",
       "      <td>0.05</td>\n",
       "      <td>5</td>\n",
       "      <td>0.25</td>\n",
       "      <td>7</td>\n",
       "      <td>0.35</td>\n",
       "      <td>0</td>\n",
       "      <td>0.00</td>\n",
       "    </tr>\n",
       "    <tr>\n",
       "      <th>7</th>\n",
       "      <td>Basketball Court</td>\n",
       "      <td>0.05</td>\n",
       "      <td>5</td>\n",
       "      <td>0.25</td>\n",
       "      <td>20</td>\n",
       "      <td>1.00</td>\n",
       "      <td>3</td>\n",
       "      <td>0.15</td>\n",
       "    </tr>\n",
       "    <tr>\n",
       "      <th>8</th>\n",
       "      <td>AirportsCommuter StationAirport ShuttleSchools...</td>\n",
       "      <td>1.00</td>\n",
       "      <td>40</td>\n",
       "      <td>4.39</td>\n",
       "      <td>40</td>\n",
       "      <td>3.52</td>\n",
       "      <td>23</td>\n",
       "      <td>2.71</td>\n",
       "    </tr>\n",
       "  </tbody>\n",
       "</table>\n",
       "</div>"
      ],
      "text/plain": [
       "                                          Conditions  Weights  \\\n",
       "0                                           Airports     0.19   \n",
       "1                                   Commuter Station     0.18   \n",
       "2                                    Airport Shuttle     0.17   \n",
       "3                                            Schools     0.14   \n",
       "4                                  Vegan Restaurants     0.12   \n",
       "5                                       Veterinaries     0.10   \n",
       "6                                     Starbucks Cafe     0.05   \n",
       "7                                   Basketball Court     0.05   \n",
       "8  AirportsCommuter StationAirport ShuttleSchools...     1.00   \n",
       "\n",
       "   Geoqueries Paris  Score Paris  Geoqueries Melbourne  Score Melbourne  \\\n",
       "0                 2         0.38                     2             0.38   \n",
       "1                 1         0.18                     7             1.26   \n",
       "2                 3         0.51                     1             0.17   \n",
       "3                 8         1.12                     1             0.14   \n",
       "4                 5         0.60                     1             0.12   \n",
       "5                11         1.10                     1             0.10   \n",
       "6                 5         0.25                     7             0.35   \n",
       "7                 5         0.25                    20             1.00   \n",
       "8                40         4.39                    40             3.52   \n",
       "\n",
       "   Geoqueries Sao Paulo  Score Sao Paulo  \n",
       "0                     1             0.19  \n",
       "1                     2             0.36  \n",
       "2                     1             0.17  \n",
       "3                     1             0.14  \n",
       "4                    10             1.20  \n",
       "5                     5             0.50  \n",
       "6                     0             0.00  \n",
       "7                     3             0.15  \n",
       "8                    23             2.71  "
      ]
     },
     "execution_count": 124,
     "metadata": {},
     "output_type": "execute_result"
    }
   ],
   "source": [
    "score_table.append(suma, ignore_index=True)"
   ]
  },
  {
   "cell_type": "markdown",
   "metadata": {},
   "source": [
    "### FINAL DECISION: As we can see in the above data frame, Paris got the biggest overall score. So the new company will have its first offices in the center of Paris."
   ]
  },
  {
   "cell_type": "code",
   "execution_count": null,
   "metadata": {},
   "outputs": [],
   "source": []
  }
 ],
 "metadata": {
  "kernelspec": {
   "display_name": "ironcon",
   "language": "python",
   "name": "ironcon"
  },
  "language_info": {
   "codemirror_mode": {
    "name": "ipython",
    "version": 3
   },
   "file_extension": ".py",
   "mimetype": "text/x-python",
   "name": "python",
   "nbconvert_exporter": "python",
   "pygments_lexer": "ipython3",
   "version": "3.8.11"
  }
 },
 "nbformat": 4,
 "nbformat_minor": 4
}
