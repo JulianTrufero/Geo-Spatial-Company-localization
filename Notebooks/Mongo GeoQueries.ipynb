{
 "cells": [
  {
   "cell_type": "code",
   "execution_count": 1,
   "metadata": {},
   "outputs": [],
   "source": [
    "import json\n",
    "from dotenv import load_dotenv\n",
    "from functools import reduce\n",
    "import numpy as np\n",
    "import operator\n",
    "import os\n",
    "import pandas as pd\n",
    "import pymongo\n",
    "from pymongo import MongoClient\n",
    "import requests"
   ]
  },
  {
   "cell_type": "code",
   "execution_count": 2,
   "metadata": {},
   "outputs": [
    {
     "data": {
      "text/plain": [
       "True"
      ]
     },
     "execution_count": 2,
     "metadata": {},
     "output_type": "execute_result"
    }
   ],
   "source": [
    "load_dotenv()"
   ]
  },
  {
   "cell_type": "code",
   "execution_count": 13,
   "metadata": {},
   "outputs": [],
   "source": [
    "paris_pg = {'type': 'Point', 'coordinates': [48.87241163769417,2.3317031342524017]}"
   ]
  },
  {
   "cell_type": "code",
   "execution_count": 99,
   "metadata": {},
   "outputs": [],
   "source": [
    "melbourne_cbd = {'type': 'Point', 'coordinates': [144.96262186884945, -37.81227175879301]}"
   ]
  },
  {
   "cell_type": "code",
   "execution_count": 213,
   "metadata": {},
   "outputs": [],
   "source": [
    "sao_paulo_zc = {'type': 'Point', 'coordinates': [-46.639408758375076, -23.533215960575276]}"
   ]
  },
  {
   "cell_type": "markdown",
   "metadata": {},
   "source": [
    "## GEOQUERIES"
   ]
  },
  {
   "cell_type": "code",
   "execution_count": 16,
   "metadata": {},
   "outputs": [
    {
     "data": {
      "text/plain": [
       "Database(MongoClient(host=['localhost:27017'], document_class=dict, tz_aware=False, connect=True), 'GeoSpatialProyect')"
      ]
     },
     "execution_count": 16,
     "metadata": {},
     "output_type": "execute_result"
    }
   ],
   "source": [
    "client = MongoClient(\"localhost:27017\")\n",
    "db = client.get_database(\"GeoSpatialProyect\")\n",
    "db"
   ]
  },
  {
   "cell_type": "code",
   "execution_count": 17,
   "metadata": {},
   "outputs": [],
   "source": [
    "transport = db.get_collection(\"transport\")"
   ]
  },
  {
   "cell_type": "code",
   "execution_count": 18,
   "metadata": {},
   "outputs": [],
   "source": [
    "gastronomy = db.get_collection(\"gastronomy\")"
   ]
  },
  {
   "cell_type": "code",
   "execution_count": 19,
   "metadata": {},
   "outputs": [],
   "source": [
    "schools = db.get_collection(\"schools\")"
   ]
  },
  {
   "cell_type": "code",
   "execution_count": 20,
   "metadata": {},
   "outputs": [],
   "source": [
    "veterinary = db.get_collection(\"veterinary\")"
   ]
  },
  {
   "cell_type": "code",
   "execution_count": 21,
   "metadata": {},
   "outputs": [],
   "source": [
    "basketball = db.get_collection(\"basketball\")"
   ]
  },
  {
   "cell_type": "code",
   "execution_count": 36,
   "metadata": {},
   "outputs": [],
   "source": [
    "def geoquering(cathegory, distance, collection, city):\n",
    "    c = f'{cathegory}'\n",
    "    cond1 = {'categories.name': c}\n",
    "    cond2 = {\"location\": {\"$near\": {\"$geometry\": city, \"$minDistance\": 0 ,\"$maxDistance\": int(distance)}}}\n",
    "    \n",
    "    gquery = {'$and': [cond1, cond2]}\n",
    "    l = list(collection.find(gquery))\n",
    "    return l"
   ]
  },
  {
   "cell_type": "markdown",
   "metadata": {},
   "source": [
    "### PARIS"
   ]
  },
  {
   "cell_type": "markdown",
   "metadata": {},
   "source": [
    "#### TRANSPORT"
   ]
  },
  {
   "cell_type": "code",
   "execution_count": 309,
   "metadata": {},
   "outputs": [],
   "source": [
    "airports_p= geoquering('Airport', 20000, transport, paris_pg)"
   ]
  },
  {
   "cell_type": "code",
   "execution_count": 310,
   "metadata": {},
   "outputs": [],
   "source": [
    "commuter_stations_p = geoquering('Train Station', 2000, transport, paris_pg)"
   ]
  },
  {
   "cell_type": "code",
   "execution_count": 311,
   "metadata": {},
   "outputs": [],
   "source": [
    "airport_shuttle_p = geoquering('Bus Stop', 2000, transport, paris_pg)"
   ]
  },
  {
   "cell_type": "code",
   "execution_count": 312,
   "metadata": {},
   "outputs": [],
   "source": [
    "airport_shuttle__p = geoquering('Transportation Service', 2000, transport, paris_pg)"
   ]
  },
  {
   "cell_type": "markdown",
   "metadata": {},
   "source": [
    "#### SCHOOLS"
   ]
  },
  {
   "cell_type": "code",
   "execution_count": 313,
   "metadata": {},
   "outputs": [],
   "source": [
    "schools1_p = geoquering('Nursery School', 2000, schools, paris_pg)"
   ]
  },
  {
   "cell_type": "code",
   "execution_count": 314,
   "metadata": {},
   "outputs": [],
   "source": [
    "schools2_p = geoquering('Elementary School', 2000, schools, paris_pg)"
   ]
  },
  {
   "cell_type": "code",
   "execution_count": 315,
   "metadata": {},
   "outputs": [],
   "source": [
    "schools3_p = geoquering('High School', 2000, schools, paris_pg)"
   ]
  },
  {
   "cell_type": "markdown",
   "metadata": {},
   "source": [
    "#### GASTRO"
   ]
  },
  {
   "cell_type": "code",
   "execution_count": 316,
   "metadata": {},
   "outputs": [],
   "source": [
    "vegan_p = geoquering('Vegetarian / Vegan Restaurant', 2000, gastronomy, paris_pg)"
   ]
  },
  {
   "cell_type": "code",
   "execution_count": 317,
   "metadata": {},
   "outputs": [],
   "source": [
    "vegan2_p = geoquering('Restaurant', 2000, gastronomy, paris_pg)"
   ]
  },
  {
   "cell_type": "code",
   "execution_count": 318,
   "metadata": {},
   "outputs": [],
   "source": [
    "vegan3_p = geoquering('Snack Place', 2000, gastronomy, paris_pg)"
   ]
  },
  {
   "cell_type": "code",
   "execution_count": 319,
   "metadata": {},
   "outputs": [],
   "source": [
    "starbucks_p = geoquering('Coffee Shop', 500, gastronomy, paris_pg)"
   ]
  },
  {
   "cell_type": "markdown",
   "metadata": {},
   "source": [
    "#### VET"
   ]
  },
  {
   "cell_type": "code",
   "execution_count": 320,
   "metadata": {},
   "outputs": [],
   "source": [
    "veterinarian_p = geoquering('Veterinarian', 3000, veterinary, paris_pg)"
   ]
  },
  {
   "cell_type": "markdown",
   "metadata": {},
   "source": [
    "#### BASKET"
   ]
  },
  {
   "cell_type": "code",
   "execution_count": 321,
   "metadata": {},
   "outputs": [],
   "source": [
    "basketball_court_p = geoquering('Basketball Court', 10000, basketball, paris_pg)"
   ]
  },
  {
   "cell_type": "markdown",
   "metadata": {},
   "source": [
    "### MELBOURNE"
   ]
  },
  {
   "cell_type": "markdown",
   "metadata": {},
   "source": [
    "#### TRANSPORT"
   ]
  },
  {
   "cell_type": "code",
   "execution_count": 286,
   "metadata": {},
   "outputs": [],
   "source": [
    "airports_m = geoquering('Airport', 20000, transport, melbourne_cbd)"
   ]
  },
  {
   "cell_type": "code",
   "execution_count": 287,
   "metadata": {},
   "outputs": [],
   "source": [
    "commuter_stations_m = geoquering('Train Station', 2000, transport, melbourne_cbd)"
   ]
  },
  {
   "cell_type": "code",
   "execution_count": 288,
   "metadata": {},
   "outputs": [],
   "source": [
    "airport_shuttle_m = geoquering('Bus Line', 2000, transport, melbourne_cbd)"
   ]
  },
  {
   "cell_type": "code",
   "execution_count": 289,
   "metadata": {},
   "outputs": [],
   "source": [
    "airport_shuttle__m = geoquering('Transportation Service', 2000, transport, melbourne_cbd)"
   ]
  },
  {
   "cell_type": "code",
   "execution_count": 290,
   "metadata": {},
   "outputs": [
    {
     "data": {
      "text/plain": [
       "2"
      ]
     },
     "execution_count": 290,
     "metadata": {},
     "output_type": "execute_result"
    }
   ],
   "source": [
    "len(airports_m)"
   ]
  },
  {
   "cell_type": "code",
   "execution_count": 291,
   "metadata": {},
   "outputs": [
    {
     "data": {
      "text/plain": [
       "7"
      ]
     },
     "execution_count": 291,
     "metadata": {},
     "output_type": "execute_result"
    }
   ],
   "source": [
    "len(commuter_stations_m)"
   ]
  },
  {
   "cell_type": "code",
   "execution_count": 292,
   "metadata": {},
   "outputs": [
    {
     "data": {
      "text/plain": [
       "1"
      ]
     },
     "execution_count": 292,
     "metadata": {},
     "output_type": "execute_result"
    }
   ],
   "source": [
    "len(airport_shuttle_m)"
   ]
  },
  {
   "cell_type": "code",
   "execution_count": 293,
   "metadata": {},
   "outputs": [
    {
     "data": {
      "text/plain": [
       "0"
      ]
     },
     "execution_count": 293,
     "metadata": {},
     "output_type": "execute_result"
    }
   ],
   "source": [
    "len(airport_shuttle__m)"
   ]
  },
  {
   "cell_type": "markdown",
   "metadata": {},
   "source": [
    "#### SCHOOLS"
   ]
  },
  {
   "cell_type": "markdown",
   "metadata": {},
   "source": [
    "#### Y CON DAY CARE?"
   ]
  },
  {
   "cell_type": "code",
   "execution_count": 324,
   "metadata": {},
   "outputs": [],
   "source": [
    "schools1_m = geoquering('Nursery', 10000, schools, melbourne_cbd)"
   ]
  },
  {
   "cell_type": "code",
   "execution_count": 325,
   "metadata": {},
   "outputs": [],
   "source": [
    "schools2_m = geoquering('Elementary School', 10000, schools, melbourne_cbd)"
   ]
  },
  {
   "cell_type": "code",
   "execution_count": 326,
   "metadata": {},
   "outputs": [],
   "source": [
    "schools3_m = geoquering('High School', 10000, schools, melbourne_cbd)"
   ]
  },
  {
   "cell_type": "code",
   "execution_count": 327,
   "metadata": {},
   "outputs": [
    {
     "data": {
      "text/plain": [
       "[]"
      ]
     },
     "execution_count": 327,
     "metadata": {},
     "output_type": "execute_result"
    }
   ],
   "source": [
    "schools1_m"
   ]
  },
  {
   "cell_type": "code",
   "execution_count": 328,
   "metadata": {},
   "outputs": [
    {
     "data": {
      "text/plain": [
       "[]"
      ]
     },
     "execution_count": 328,
     "metadata": {},
     "output_type": "execute_result"
    }
   ],
   "source": [
    "schools2_m"
   ]
  },
  {
   "cell_type": "code",
   "execution_count": 329,
   "metadata": {},
   "outputs": [
    {
     "data": {
      "text/plain": [
       "[]"
      ]
     },
     "execution_count": 329,
     "metadata": {},
     "output_type": "execute_result"
    }
   ],
   "source": [
    "schools3_m"
   ]
  },
  {
   "cell_type": "markdown",
   "metadata": {},
   "source": [
    "#### GASTRO"
   ]
  },
  {
   "cell_type": "code",
   "execution_count": 330,
   "metadata": {},
   "outputs": [],
   "source": [
    "vegan_m = geoquering('Vegetarian / Vegan Restaurant', 2000, gastronomy, melbourne_cbd)"
   ]
  },
  {
   "cell_type": "code",
   "execution_count": 331,
   "metadata": {},
   "outputs": [],
   "source": [
    "vegan2_m = geoquering('Restaurant', 2000, gastronomy, melbourne_cbd)"
   ]
  },
  {
   "cell_type": "code",
   "execution_count": 332,
   "metadata": {},
   "outputs": [],
   "source": [
    "vegan3_m = geoquering('Snack Place', 2000, gastronomy, melbourne_cbd)"
   ]
  },
  {
   "cell_type": "code",
   "execution_count": 333,
   "metadata": {},
   "outputs": [],
   "source": [
    "starbucks_m = geoquering('Coffee Shop', 500, gastronomy, melbourne_cbd)"
   ]
  },
  {
   "cell_type": "code",
   "execution_count": 334,
   "metadata": {
    "scrolled": true
   },
   "outputs": [
    {
     "data": {
      "text/plain": [
       "1"
      ]
     },
     "execution_count": 334,
     "metadata": {},
     "output_type": "execute_result"
    }
   ],
   "source": [
    "len(vegan_m)"
   ]
  },
  {
   "cell_type": "code",
   "execution_count": 335,
   "metadata": {},
   "outputs": [
    {
     "data": {
      "text/plain": [
       "0"
      ]
     },
     "execution_count": 335,
     "metadata": {},
     "output_type": "execute_result"
    }
   ],
   "source": [
    "len(vegan2_m)"
   ]
  },
  {
   "cell_type": "code",
   "execution_count": 336,
   "metadata": {},
   "outputs": [
    {
     "data": {
      "text/plain": [
       "0"
      ]
     },
     "execution_count": 336,
     "metadata": {},
     "output_type": "execute_result"
    }
   ],
   "source": [
    "len(vegan3_m)"
   ]
  },
  {
   "cell_type": "code",
   "execution_count": 337,
   "metadata": {},
   "outputs": [
    {
     "data": {
      "text/plain": [
       "7"
      ]
     },
     "execution_count": 337,
     "metadata": {},
     "output_type": "execute_result"
    }
   ],
   "source": [
    "len(starbucks_m)"
   ]
  },
  {
   "cell_type": "markdown",
   "metadata": {},
   "source": [
    "#### VET"
   ]
  },
  {
   "cell_type": "code",
   "execution_count": 338,
   "metadata": {},
   "outputs": [],
   "source": [
    "veterinarian_m = geoquering('Veterinarian', 3000, veterinary, melbourne_cbd)"
   ]
  },
  {
   "cell_type": "code",
   "execution_count": 339,
   "metadata": {},
   "outputs": [
    {
     "data": {
      "text/plain": [
       "1"
      ]
     },
     "execution_count": 339,
     "metadata": {},
     "output_type": "execute_result"
    }
   ],
   "source": [
    "len(veterinarian_m)"
   ]
  },
  {
   "cell_type": "markdown",
   "metadata": {},
   "source": [
    "#### BASKET"
   ]
  },
  {
   "cell_type": "code",
   "execution_count": 340,
   "metadata": {},
   "outputs": [],
   "source": [
    "basketball_court_m = geoquering('Basketball Court', 10000, basketball, melbourne_cbd)"
   ]
  },
  {
   "cell_type": "code",
   "execution_count": 370,
   "metadata": {},
   "outputs": [
    {
     "data": {
      "text/plain": [
       "20"
      ]
     },
     "execution_count": 370,
     "metadata": {},
     "output_type": "execute_result"
    }
   ],
   "source": [
    "len(basketball_court_m)"
   ]
  },
  {
   "cell_type": "markdown",
   "metadata": {},
   "source": [
    "### SAO PAULO"
   ]
  },
  {
   "cell_type": "markdown",
   "metadata": {},
   "source": [
    "#### TRANSPORT"
   ]
  },
  {
   "cell_type": "code",
   "execution_count": 342,
   "metadata": {},
   "outputs": [],
   "source": [
    "airports_sp = geoquering('Airport', 20000, transport, sao_paulo_zc)"
   ]
  },
  {
   "cell_type": "code",
   "execution_count": 343,
   "metadata": {},
   "outputs": [],
   "source": [
    "commuter_stations_sp = geoquering('Train Station', 2000, transport, sao_paulo_zc)"
   ]
  },
  {
   "cell_type": "code",
   "execution_count": 344,
   "metadata": {},
   "outputs": [],
   "source": [
    "airport_shuttle_sp = geoquering('Bus Line', 2000, transport, sao_paulo_zc)"
   ]
  },
  {
   "cell_type": "code",
   "execution_count": 345,
   "metadata": {},
   "outputs": [],
   "source": [
    "airport_shuttle__sp = geoquering('Transportation Service', 2000, transport, sao_paulo_zc)"
   ]
  },
  {
   "cell_type": "code",
   "execution_count": 346,
   "metadata": {},
   "outputs": [
    {
     "data": {
      "text/plain": [
       "1"
      ]
     },
     "execution_count": 346,
     "metadata": {},
     "output_type": "execute_result"
    }
   ],
   "source": [
    "len(airports_sp)"
   ]
  },
  {
   "cell_type": "code",
   "execution_count": 347,
   "metadata": {},
   "outputs": [
    {
     "data": {
      "text/plain": [
       "2"
      ]
     },
     "execution_count": 347,
     "metadata": {},
     "output_type": "execute_result"
    }
   ],
   "source": [
    "len(commuter_stations_sp)"
   ]
  },
  {
   "cell_type": "code",
   "execution_count": 348,
   "metadata": {},
   "outputs": [
    {
     "data": {
      "text/plain": [
       "1"
      ]
     },
     "execution_count": 348,
     "metadata": {},
     "output_type": "execute_result"
    }
   ],
   "source": [
    "len(airport_shuttle_sp)"
   ]
  },
  {
   "cell_type": "code",
   "execution_count": 349,
   "metadata": {},
   "outputs": [
    {
     "data": {
      "text/plain": [
       "0"
      ]
     },
     "execution_count": 349,
     "metadata": {},
     "output_type": "execute_result"
    }
   ],
   "source": [
    "len(airport_shuttle__sp)"
   ]
  },
  {
   "cell_type": "markdown",
   "metadata": {},
   "source": [
    "#### SCHOOLS"
   ]
  },
  {
   "cell_type": "code",
   "execution_count": 350,
   "metadata": {},
   "outputs": [],
   "source": [
    "schools1_sp = geoquering('Nursery School', 2000, schools, sao_paulo_zc)"
   ]
  },
  {
   "cell_type": "code",
   "execution_count": 351,
   "metadata": {},
   "outputs": [],
   "source": [
    "schools2_sp = geoquering('Elementary School', 2000, schools, sao_paulo_zc)"
   ]
  },
  {
   "cell_type": "code",
   "execution_count": 352,
   "metadata": {},
   "outputs": [],
   "source": [
    "schools3_sp = geoquering('High School', 2000, schools, sao_paulo_zc)"
   ]
  },
  {
   "cell_type": "markdown",
   "metadata": {},
   "source": [
    "#### GASTRO"
   ]
  },
  {
   "cell_type": "code",
   "execution_count": 353,
   "metadata": {},
   "outputs": [],
   "source": [
    "vegan_sp = geoquering('Vegetarian / Vegan Restaurant', 2000, gastronomy, sao_paulo_zc)"
   ]
  },
  {
   "cell_type": "code",
   "execution_count": 354,
   "metadata": {},
   "outputs": [],
   "source": [
    "vegan2_sp = geoquering('Restaurant', 2000, gastronomy, sao_paulo_zc)"
   ]
  },
  {
   "cell_type": "code",
   "execution_count": 355,
   "metadata": {},
   "outputs": [],
   "source": [
    "vegan3_sp = geoquering('Snack Place', 2000, gastronomy, sao_paulo_zc)"
   ]
  },
  {
   "cell_type": "code",
   "execution_count": 356,
   "metadata": {},
   "outputs": [],
   "source": [
    "starbucks_sp = geoquering('Coffee Shop', 500, gastronomy, sao_paulo_zc)"
   ]
  },
  {
   "cell_type": "markdown",
   "metadata": {},
   "source": [
    "#### VET"
   ]
  },
  {
   "cell_type": "code",
   "execution_count": 357,
   "metadata": {},
   "outputs": [],
   "source": [
    "veterinarian_sp = geoquering('Veterinarian', 2000, veterinary, sao_paulo_zc)"
   ]
  },
  {
   "cell_type": "markdown",
   "metadata": {},
   "source": [
    "#### BASKET"
   ]
  },
  {
   "cell_type": "code",
   "execution_count": 358,
   "metadata": {},
   "outputs": [],
   "source": [
    "basketball_court_sp = geoquering('Basketball Court', 10000, basketball, sao_paulo_zc)"
   ]
  },
  {
   "cell_type": "markdown",
   "metadata": {},
   "source": [
    "## GEO DESICIÓN"
   ]
  },
  {
   "cell_type": "code",
   "execution_count": 397,
   "metadata": {},
   "outputs": [],
   "source": [
    "geoqueries_paris = np.array([len(airports_p), len(commuter_stations_p), len(airport_shuttle_p),\n",
    "                    (len(schools1_p) + len(schools2_p) + len(schools3_p)), (len(vegan_p)+ len(vegan2_p) + len(vegan3_p)),\n",
    "                    len(veterinarian_p), len(starbucks_p), len(basketball_court_p)])"
   ]
  },
  {
   "cell_type": "code",
   "execution_count": 360,
   "metadata": {},
   "outputs": [],
   "source": [
    "geoqueries_melbourne = np.array([len(airports_m), len(commuter_stations_m), len(airport_shuttle_m),\n",
    "                    (len(schools1_m) + len(schools2_m) + len(schools3_m)), (len(vegan_m)+ len(vegan2_m) + len(vegan3_m)),\n",
    "                    len(veterinarian_m), len(starbucks_m), len(basketball_court_m)])"
   ]
  },
  {
   "cell_type": "code",
   "execution_count": 361,
   "metadata": {},
   "outputs": [],
   "source": [
    "geoqueries_saopaulo = np.array([len(airports_sp), len(commuter_stations_sp), len(airport_shuttle_sp),\n",
    "                    (len(schools1_sp) + len(schools2_sp) + len(schools3_sp)), (len(vegan_sp)+ len(vegan2_sp) + len(vegan3_sp)),\n",
    "                    len(veterinarian_sp), len(starbucks_sp), len(basketball_court_sp)])"
   ]
  },
  {
   "cell_type": "code",
   "execution_count": 362,
   "metadata": {},
   "outputs": [],
   "source": [
    "weights = np.array([0.19, 0.18, 0.17, 0.14, 0.12, 0.1, 0.05, 0.05])"
   ]
  },
  {
   "cell_type": "code",
   "execution_count": 373,
   "metadata": {},
   "outputs": [
    {
     "data": {
      "text/plain": [
       "4.390000000000001"
      ]
     },
     "execution_count": 373,
     "metadata": {},
     "output_type": "execute_result"
    }
   ],
   "source": [
    "sum(weights * geoqueries_paris)"
   ]
  },
  {
   "cell_type": "code",
   "execution_count": 386,
   "metadata": {},
   "outputs": [],
   "source": [
    "score_p = {'Conditions': ['Airports', 'Commuter Station', 'Airport Shuttle', 'Schools', 'Vegan Restaurants', 'Veterinaries', 'Starbucks Cafe', 'Basketball Court'],\n",
    "           'Weights': [0.19, 0.18, 0.17, 0.14, 0.12, 0.1, 0.05, 0.05],\n",
    "           'Geoqueries Paris': geoqueries_paris, 'Score Paris': weights * geoqueries_paris,\n",
    "           'Geoqueries Melbourne': geoqueries_melbourne, 'Score Melbourne': weights * geoqueries_melbourne,\n",
    "           'Geoqueries Sao Paulo': geoqueries_saopaulo, 'Score Sao Paulo': weights * geoqueries_saopaulo}"
   ]
  },
  {
   "cell_type": "code",
   "execution_count": 387,
   "metadata": {},
   "outputs": [],
   "source": [
    "score_p = pd.DataFrame(score_p)"
   ]
  },
  {
   "cell_type": "code",
   "execution_count": 388,
   "metadata": {},
   "outputs": [
    {
     "data": {
      "text/html": [
       "<div>\n",
       "<style scoped>\n",
       "    .dataframe tbody tr th:only-of-type {\n",
       "        vertical-align: middle;\n",
       "    }\n",
       "\n",
       "    .dataframe tbody tr th {\n",
       "        vertical-align: top;\n",
       "    }\n",
       "\n",
       "    .dataframe thead th {\n",
       "        text-align: right;\n",
       "    }\n",
       "</style>\n",
       "<table border=\"1\" class=\"dataframe\">\n",
       "  <thead>\n",
       "    <tr style=\"text-align: right;\">\n",
       "      <th></th>\n",
       "      <th>Conditions</th>\n",
       "      <th>Weights</th>\n",
       "      <th>Geoqueries Paris</th>\n",
       "      <th>Score Paris</th>\n",
       "      <th>Geoqueries Melbourne</th>\n",
       "      <th>Score Melbourne</th>\n",
       "      <th>Geoqueries Sao Paulo</th>\n",
       "      <th>Score Sao Paulo</th>\n",
       "    </tr>\n",
       "  </thead>\n",
       "  <tbody>\n",
       "    <tr>\n",
       "      <th>0</th>\n",
       "      <td>Airports</td>\n",
       "      <td>0.19</td>\n",
       "      <td>2</td>\n",
       "      <td>0.38</td>\n",
       "      <td>2</td>\n",
       "      <td>0.38</td>\n",
       "      <td>1</td>\n",
       "      <td>0.19</td>\n",
       "    </tr>\n",
       "    <tr>\n",
       "      <th>1</th>\n",
       "      <td>Commuter Station</td>\n",
       "      <td>0.18</td>\n",
       "      <td>1</td>\n",
       "      <td>0.18</td>\n",
       "      <td>7</td>\n",
       "      <td>1.26</td>\n",
       "      <td>2</td>\n",
       "      <td>0.36</td>\n",
       "    </tr>\n",
       "    <tr>\n",
       "      <th>2</th>\n",
       "      <td>Airport Shuttle</td>\n",
       "      <td>0.17</td>\n",
       "      <td>3</td>\n",
       "      <td>0.51</td>\n",
       "      <td>1</td>\n",
       "      <td>0.17</td>\n",
       "      <td>1</td>\n",
       "      <td>0.17</td>\n",
       "    </tr>\n",
       "    <tr>\n",
       "      <th>3</th>\n",
       "      <td>Schools</td>\n",
       "      <td>0.14</td>\n",
       "      <td>8</td>\n",
       "      <td>1.12</td>\n",
       "      <td>0</td>\n",
       "      <td>0.00</td>\n",
       "      <td>1</td>\n",
       "      <td>0.14</td>\n",
       "    </tr>\n",
       "    <tr>\n",
       "      <th>4</th>\n",
       "      <td>Vegan Restaurants</td>\n",
       "      <td>0.12</td>\n",
       "      <td>5</td>\n",
       "      <td>0.60</td>\n",
       "      <td>1</td>\n",
       "      <td>0.12</td>\n",
       "      <td>10</td>\n",
       "      <td>1.20</td>\n",
       "    </tr>\n",
       "    <tr>\n",
       "      <th>5</th>\n",
       "      <td>Veterinaries</td>\n",
       "      <td>0.10</td>\n",
       "      <td>11</td>\n",
       "      <td>1.10</td>\n",
       "      <td>1</td>\n",
       "      <td>0.10</td>\n",
       "      <td>2</td>\n",
       "      <td>0.20</td>\n",
       "    </tr>\n",
       "    <tr>\n",
       "      <th>6</th>\n",
       "      <td>Starbucks Cafe</td>\n",
       "      <td>0.05</td>\n",
       "      <td>5</td>\n",
       "      <td>0.25</td>\n",
       "      <td>7</td>\n",
       "      <td>0.35</td>\n",
       "      <td>0</td>\n",
       "      <td>0.00</td>\n",
       "    </tr>\n",
       "    <tr>\n",
       "      <th>7</th>\n",
       "      <td>Basketball Court</td>\n",
       "      <td>0.05</td>\n",
       "      <td>5</td>\n",
       "      <td>0.25</td>\n",
       "      <td>20</td>\n",
       "      <td>1.00</td>\n",
       "      <td>3</td>\n",
       "      <td>0.15</td>\n",
       "    </tr>\n",
       "  </tbody>\n",
       "</table>\n",
       "</div>"
      ],
      "text/plain": [
       "          Conditions  Weights  Geoqueries Paris  Score Paris  \\\n",
       "0           Airports     0.19                 2         0.38   \n",
       "1   Commuter Station     0.18                 1         0.18   \n",
       "2    Airport Shuttle     0.17                 3         0.51   \n",
       "3            Schools     0.14                 8         1.12   \n",
       "4  Vegan Restaurants     0.12                 5         0.60   \n",
       "5       Veterinaries     0.10                11         1.10   \n",
       "6     Starbucks Cafe     0.05                 5         0.25   \n",
       "7   Basketball Court     0.05                 5         0.25   \n",
       "\n",
       "   Geoqueries Melbourne  Score Melbourne  Geoqueries Sao Paulo  \\\n",
       "0                     2             0.38                     1   \n",
       "1                     7             1.26                     2   \n",
       "2                     1             0.17                     1   \n",
       "3                     0             0.00                     1   \n",
       "4                     1             0.12                    10   \n",
       "5                     1             0.10                     2   \n",
       "6                     7             0.35                     0   \n",
       "7                    20             1.00                     3   \n",
       "\n",
       "   Score Sao Paulo  \n",
       "0             0.19  \n",
       "1             0.36  \n",
       "2             0.17  \n",
       "3             0.14  \n",
       "4             1.20  \n",
       "5             0.20  \n",
       "6             0.00  \n",
       "7             0.15  "
      ]
     },
     "execution_count": 388,
     "metadata": {},
     "output_type": "execute_result"
    }
   ],
   "source": [
    "score_p"
   ]
  },
  {
   "cell_type": "code",
   "execution_count": 398,
   "metadata": {},
   "outputs": [],
   "source": [
    "suma = score_p.sum()"
   ]
  },
  {
   "cell_type": "code",
   "execution_count": 399,
   "metadata": {},
   "outputs": [
    {
     "data": {
      "text/html": [
       "<div>\n",
       "<style scoped>\n",
       "    .dataframe tbody tr th:only-of-type {\n",
       "        vertical-align: middle;\n",
       "    }\n",
       "\n",
       "    .dataframe tbody tr th {\n",
       "        vertical-align: top;\n",
       "    }\n",
       "\n",
       "    .dataframe thead th {\n",
       "        text-align: right;\n",
       "    }\n",
       "</style>\n",
       "<table border=\"1\" class=\"dataframe\">\n",
       "  <thead>\n",
       "    <tr style=\"text-align: right;\">\n",
       "      <th></th>\n",
       "      <th>Conditions</th>\n",
       "      <th>Weights</th>\n",
       "      <th>Geoqueries Paris</th>\n",
       "      <th>Score Paris</th>\n",
       "      <th>Geoqueries Melbourne</th>\n",
       "      <th>Score Melbourne</th>\n",
       "      <th>Geoqueries Sao Paulo</th>\n",
       "      <th>Score Sao Paulo</th>\n",
       "    </tr>\n",
       "  </thead>\n",
       "  <tbody>\n",
       "    <tr>\n",
       "      <th>0</th>\n",
       "      <td>Airports</td>\n",
       "      <td>0.19</td>\n",
       "      <td>2</td>\n",
       "      <td>0.38</td>\n",
       "      <td>2</td>\n",
       "      <td>0.38</td>\n",
       "      <td>1</td>\n",
       "      <td>0.19</td>\n",
       "    </tr>\n",
       "    <tr>\n",
       "      <th>1</th>\n",
       "      <td>Commuter Station</td>\n",
       "      <td>0.18</td>\n",
       "      <td>1</td>\n",
       "      <td>0.18</td>\n",
       "      <td>7</td>\n",
       "      <td>1.26</td>\n",
       "      <td>2</td>\n",
       "      <td>0.36</td>\n",
       "    </tr>\n",
       "    <tr>\n",
       "      <th>2</th>\n",
       "      <td>Airport Shuttle</td>\n",
       "      <td>0.17</td>\n",
       "      <td>3</td>\n",
       "      <td>0.51</td>\n",
       "      <td>1</td>\n",
       "      <td>0.17</td>\n",
       "      <td>1</td>\n",
       "      <td>0.17</td>\n",
       "    </tr>\n",
       "    <tr>\n",
       "      <th>3</th>\n",
       "      <td>Schools</td>\n",
       "      <td>0.14</td>\n",
       "      <td>8</td>\n",
       "      <td>1.12</td>\n",
       "      <td>0</td>\n",
       "      <td>0.00</td>\n",
       "      <td>1</td>\n",
       "      <td>0.14</td>\n",
       "    </tr>\n",
       "    <tr>\n",
       "      <th>4</th>\n",
       "      <td>Vegan Restaurants</td>\n",
       "      <td>0.12</td>\n",
       "      <td>5</td>\n",
       "      <td>0.60</td>\n",
       "      <td>1</td>\n",
       "      <td>0.12</td>\n",
       "      <td>10</td>\n",
       "      <td>1.20</td>\n",
       "    </tr>\n",
       "    <tr>\n",
       "      <th>5</th>\n",
       "      <td>Veterinaries</td>\n",
       "      <td>0.10</td>\n",
       "      <td>11</td>\n",
       "      <td>1.10</td>\n",
       "      <td>1</td>\n",
       "      <td>0.10</td>\n",
       "      <td>2</td>\n",
       "      <td>0.20</td>\n",
       "    </tr>\n",
       "    <tr>\n",
       "      <th>6</th>\n",
       "      <td>Starbucks Cafe</td>\n",
       "      <td>0.05</td>\n",
       "      <td>5</td>\n",
       "      <td>0.25</td>\n",
       "      <td>7</td>\n",
       "      <td>0.35</td>\n",
       "      <td>0</td>\n",
       "      <td>0.00</td>\n",
       "    </tr>\n",
       "    <tr>\n",
       "      <th>7</th>\n",
       "      <td>Basketball Court</td>\n",
       "      <td>0.05</td>\n",
       "      <td>5</td>\n",
       "      <td>0.25</td>\n",
       "      <td>20</td>\n",
       "      <td>1.00</td>\n",
       "      <td>3</td>\n",
       "      <td>0.15</td>\n",
       "    </tr>\n",
       "    <tr>\n",
       "      <th>8</th>\n",
       "      <td>AirportsCommuter StationAirport ShuttleSchools...</td>\n",
       "      <td>1.00</td>\n",
       "      <td>40</td>\n",
       "      <td>4.39</td>\n",
       "      <td>39</td>\n",
       "      <td>3.38</td>\n",
       "      <td>20</td>\n",
       "      <td>2.41</td>\n",
       "    </tr>\n",
       "  </tbody>\n",
       "</table>\n",
       "</div>"
      ],
      "text/plain": [
       "                                          Conditions  Weights  \\\n",
       "0                                           Airports     0.19   \n",
       "1                                   Commuter Station     0.18   \n",
       "2                                    Airport Shuttle     0.17   \n",
       "3                                            Schools     0.14   \n",
       "4                                  Vegan Restaurants     0.12   \n",
       "5                                       Veterinaries     0.10   \n",
       "6                                     Starbucks Cafe     0.05   \n",
       "7                                   Basketball Court     0.05   \n",
       "8  AirportsCommuter StationAirport ShuttleSchools...     1.00   \n",
       "\n",
       "   Geoqueries Paris  Score Paris  Geoqueries Melbourne  Score Melbourne  \\\n",
       "0                 2         0.38                     2             0.38   \n",
       "1                 1         0.18                     7             1.26   \n",
       "2                 3         0.51                     1             0.17   \n",
       "3                 8         1.12                     0             0.00   \n",
       "4                 5         0.60                     1             0.12   \n",
       "5                11         1.10                     1             0.10   \n",
       "6                 5         0.25                     7             0.35   \n",
       "7                 5         0.25                    20             1.00   \n",
       "8                40         4.39                    39             3.38   \n",
       "\n",
       "   Geoqueries Sao Paulo  Score Sao Paulo  \n",
       "0                     1             0.19  \n",
       "1                     2             0.36  \n",
       "2                     1             0.17  \n",
       "3                     1             0.14  \n",
       "4                    10             1.20  \n",
       "5                     2             0.20  \n",
       "6                     0             0.00  \n",
       "7                     3             0.15  \n",
       "8                    20             2.41  "
      ]
     },
     "execution_count": 399,
     "metadata": {},
     "output_type": "execute_result"
    }
   ],
   "source": [
    "score_p.append(suma, ignore_index=True)"
   ]
  },
  {
   "cell_type": "code",
   "execution_count": null,
   "metadata": {},
   "outputs": [],
   "source": [
    "score_p['AirportsCommuter StationAirport ShuttleSchoolsVegan RestaurantsVeterinariesStarbucks CafeBasketball Court']"
   ]
  },
  {
   "cell_type": "code",
   "execution_count": null,
   "metadata": {},
   "outputs": [],
   "source": [
    "score_p.rename(rows=diccio_todas, inplace=True)"
   ]
  }
 ],
 "metadata": {
  "kernelspec": {
   "display_name": "ironcon",
   "language": "python",
   "name": "ironcon"
  },
  "language_info": {
   "codemirror_mode": {
    "name": "ipython",
    "version": 3
   },
   "file_extension": ".py",
   "mimetype": "text/x-python",
   "name": "python",
   "nbconvert_exporter": "python",
   "pygments_lexer": "ipython3",
   "version": "3.8.11"
  }
 },
 "nbformat": 4,
 "nbformat_minor": 4
}
