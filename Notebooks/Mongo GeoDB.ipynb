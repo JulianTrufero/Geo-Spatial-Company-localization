{
 "cells": [
  {
   "cell_type": "code",
   "execution_count": 7,
   "metadata": {},
   "outputs": [],
   "source": [
    "import json\n",
    "from dotenv import load_dotenv\n",
    "from functools import reduce\n",
    "import numpy as np\n",
    "import operator\n",
    "import os\n",
    "import pandas as pd\n",
    "import pymongo\n",
    "from pymongo import MongoClient\n",
    "import requests"
   ]
  },
  {
   "cell_type": "code",
   "execution_count": 8,
   "metadata": {},
   "outputs": [
    {
     "data": {
      "text/plain": [
       "True"
      ]
     },
     "execution_count": 8,
     "metadata": {},
     "output_type": "execute_result"
    }
   ],
   "source": [
    "load_dotenv()"
   ]
  },
  {
   "cell_type": "code",
   "execution_count": 9,
   "metadata": {},
   "outputs": [],
   "source": [
    "def getdata_fsq(url, city, venue):\n",
    "    client_id = os.getenv(\"tok1\")\n",
    "    client_secret = os.getenv(\"tok2\")\n",
    "    url_ = f'{url}'\n",
    "    c = city['coordinates'][0]\n",
    "    c1 = city['coordinates'][1]\n",
    "    parametros = {\"client_id\": client_id, \"client_secret\": client_secret, \"v\": \"20180323\", \"ll\": f'{c}, {c1}',\n",
    "                  \"query\": venue, \"limit\": 55}\n",
    "    resp = requests.get(url_, params=parametros).json()\n",
    "    return resp"
   ]
  },
  {
   "cell_type": "code",
   "execution_count": 10,
   "metadata": {},
   "outputs": [],
   "source": [
    "def datagenerator(url, city, cathegories):\n",
    "    \"\"\"\n",
    "    Generamos una lista de lista de diccionarios, donde cada elemento es una lista de diccionarios por categoria\n",
    "    \"\"\"\n",
    "    cath = cathegories\n",
    "    data_ = []\n",
    "    for c in cath:\n",
    "        data = getdata_fsq(url, city, c)\n",
    "        data_.append(data['response']['venues'])\n",
    "    return data_"
   ]
  },
  {
   "cell_type": "code",
   "execution_count": 11,
   "metadata": {},
   "outputs": [],
   "source": [
    "def getFromDict(dic,map_):\n",
    "    return reduce(operator.getitem, map_, dic)\n",
    "\n",
    "def type_point(gps):\n",
    "    return {\"type\": \"Point\", \"coordinates\": gps}\n",
    "\n",
    "def jsonxport(name, l):\n",
    "    n = f'{name}.json'\n",
    "    with open(n, 'w') as f:\n",
    "        json.dump(l, f)"
   ]
  },
  {
   "cell_type": "code",
   "execution_count": 46,
   "metadata": {},
   "outputs": [],
   "source": [
    "def jsongenerator(data, name):\n",
    "    d = data\n",
    "    map_name = ['name']\n",
    "    map_categories = ['categories']\n",
    "    map_lat = ['location', 'lat']\n",
    "    map_long = ['location', 'lng']\n",
    "    l = []\n",
    "    for dic in d:\n",
    "        ndic = {}\n",
    "        ndic['name']= getFromDict(dic,map_name)\n",
    "        ndic['categories']= getFromDict(dic,map_categories)\n",
    "        ndic['latitude']= getFromDict(dic,map_lat)\n",
    "        ndic['longitude']= getFromDict(dic,map_long)\n",
    "        if ndic['latitude'] < 0:\n",
    "            ndic['location']= type_point([ndic[\"longitude\"],ndic[\"latitude\"]])\n",
    "        else:\n",
    "            ndic['location']= type_point([ndic[\"latitude\"],ndic[\"longitude\"]])\n",
    "        l.append(ndic)\n",
    "    return jsonxport(name, l)"
   ]
  },
  {
   "cell_type": "markdown",
   "metadata": {},
   "source": [
    "#### PARIS: Palais Garnier "
   ]
  },
  {
   "cell_type": "code",
   "execution_count": 14,
   "metadata": {},
   "outputs": [],
   "source": [
    "paris_ = {'type': 'Point', 'coordinates': [48.87241163769417,2.3317031342524017]}"
   ]
  },
  {
   "cell_type": "code",
   "execution_count": 15,
   "metadata": {},
   "outputs": [],
   "source": [
    "cathegories_p = ['vegan', 'airport', 'gare', 'starbucks', 'veterinaire', 'basketball', 'ecole']"
   ]
  },
  {
   "cell_type": "code",
   "execution_count": 16,
   "metadata": {},
   "outputs": [],
   "source": [
    "paris = datagenerator('https://api.foursquare.com/v2/venues/search', paris_, cathegories_p)"
   ]
  },
  {
   "cell_type": "code",
   "execution_count": 37,
   "metadata": {},
   "outputs": [],
   "source": [
    "def jsonsparis():\n",
    "    cathegories_= ['veganp', 'airportp', 'garep', 'starbucksp', 'veterinairep', 'basketballp', 'ecolep']\n",
    "    for l, c in zip(range(len(cathegories_)), cathegories_) :\n",
    "         j = jsongenerator(paris[l], c)\n",
    "    return j"
   ]
  },
  {
   "cell_type": "code",
   "execution_count": 38,
   "metadata": {},
   "outputs": [],
   "source": [
    "jsonsparis()"
   ]
  },
  {
   "cell_type": "markdown",
   "metadata": {},
   "source": [
    "#### MELBOURNE CBD"
   ]
  },
  {
   "cell_type": "code",
   "execution_count": 39,
   "metadata": {},
   "outputs": [],
   "source": [
    "melbourne_cbd = {'type': 'Point', 'coordinates': [-37.81227175879301,144.96262186884945]}"
   ]
  },
  {
   "cell_type": "code",
   "execution_count": 40,
   "metadata": {},
   "outputs": [],
   "source": [
    "cathegories_m = ['vegan', 'airport', 'station', 'starbucks', 'veterinary', 'basketball', 'school', 'daycare']"
   ]
  },
  {
   "cell_type": "code",
   "execution_count": 41,
   "metadata": {},
   "outputs": [],
   "source": [
    "melbourne = datagenerator('https://api.foursquare.com/v2/venues/search', melbourne_cbd, cathegories_m)"
   ]
  },
  {
   "cell_type": "code",
   "execution_count": 47,
   "metadata": {},
   "outputs": [],
   "source": [
    "def jsonsmelbourne():\n",
    "    cathegories_= ['veganm', 'airportm', 'stationm', 'starbuckm', 'veterinarym', 'basketballm', 'schoolsm', 'nurseriesm']\n",
    "    for l, c in zip(range(len(cathegories_)), cathegories_) :\n",
    "         j = jsongenerator(melbourne[l], c)\n",
    "    return j"
   ]
  },
  {
   "cell_type": "code",
   "execution_count": 48,
   "metadata": {},
   "outputs": [],
   "source": [
    "jsonsmelbourne()"
   ]
  },
  {
   "cell_type": "markdown",
   "metadata": {},
   "source": [
    "#### SAO PAULO: Zona Central"
   ]
  },
  {
   "cell_type": "code",
   "execution_count": 49,
   "metadata": {},
   "outputs": [],
   "source": [
    "sao_paulo_zc = {'type': 'Point', 'coordinates': [-23.533215960575276,-46.639408758375076]}"
   ]
  },
  {
   "cell_type": "code",
   "execution_count": 50,
   "metadata": {},
   "outputs": [],
   "source": [
    "cathegories_s = ['vegan', 'airport', 'estacao', 'starbucks', 'veterinaria', 'basketball', 'escola']"
   ]
  },
  {
   "cell_type": "code",
   "execution_count": 51,
   "metadata": {},
   "outputs": [],
   "source": [
    "sao_paulo = datagenerator('https://api.foursquare.com/v2/venues/search', sao_paulo_zc, cathegories_s)"
   ]
  },
  {
   "cell_type": "code",
   "execution_count": 52,
   "metadata": {},
   "outputs": [],
   "source": [
    "def jsonssaopaulo():\n",
    "    cathegories_= ['vegansp', 'airportsp', 'stationsp', 'starbucksp', 'veterinarysp', 'basketballsp', 'schoolssp']\n",
    "    for l, c in zip(range(len(cathegories_)), cathegories_) :\n",
    "         j = jsongenerator(sao_paulo[l], c)\n",
    "    return j"
   ]
  },
  {
   "cell_type": "code",
   "execution_count": 53,
   "metadata": {},
   "outputs": [],
   "source": [
    "jsonssaopaulo()"
   ]
  },
  {
   "cell_type": "code",
   "execution_count": null,
   "metadata": {},
   "outputs": [],
   "source": []
  }
 ],
 "metadata": {
  "kernelspec": {
   "display_name": "ironcon",
   "language": "python",
   "name": "ironcon"
  },
  "language_info": {
   "codemirror_mode": {
    "name": "ipython",
    "version": 3
   },
   "file_extension": ".py",
   "mimetype": "text/x-python",
   "name": "python",
   "nbconvert_exporter": "python",
   "pygments_lexer": "ipython3",
   "version": "3.8.11"
  }
 },
 "nbformat": 4,
 "nbformat_minor": 4
}
